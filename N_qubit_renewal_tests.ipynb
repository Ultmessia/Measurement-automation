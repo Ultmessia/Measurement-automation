{
 "cells": [
  {
   "cell_type": "code",
   "execution_count": 1,
   "metadata": {},
   "outputs": [
    {
     "name": "stdout",
     "output_type": "stream",
     "text": [
      "Populating the interactive namespace from numpy and matplotlib\n"
     ]
    }
   ],
   "source": [
    "%pylab qt5\n",
    "from unittest.mock import MagicMock, Mock\n",
    "from time import sleep\n",
    "from qutip import *\n",
    "class DataGen:\n",
    "    \n",
    "    def __init__(self):\n",
    "        self._counter = 0\n",
    "        self._nop = 1\n",
    "        self._freq = 0.1\n",
    "        \n",
    "    def fun(self, x):\n",
    "        return [cos(self._freq*x) + 1j*cos(self._freq*x)]*self._nop\n",
    "    \n",
    "    def get_sdata(self):\n",
    "        retval = self.fun(self._counter)\n",
    "        self._counter += 1\n",
    "        sleep(0.2)\n",
    "        return retval\n",
    "    \n",
    "    def get_frequencies(self):\n",
    "        return linspace(self._freq_limits[0], self._freq_limits[1], self._nop)\n",
    "    \n",
    "    def set_parameters(self, params):\n",
    "        self._nop = params[\"nop\"]\n",
    "        self._freq_limits = params[\"freq_limits\"]\n",
    "    \n",
    "    def set_freq_limits(self, *limits):\n",
    "        self._freq_limits = limits\n",
    "        \n",
    "    def set_nop(self, nop):\n",
    "        self._nop = nop\n",
    "        \n",
    "    def detect(self):\n",
    "        return 5.9e9, 0, 0\n",
    "    \n",
    "dg = DataGen()\n",
    "vna = Mock()\n",
    "cur_src = Mock()\n",
    "q_lo = Mock()\n",
    "q_awg = Mock()\n",
    "ro_awg = MagicMock()\n",
    "q_z_awg = Mock()\n",
    "q_lo_2 = Mock()\n",
    "q_awg_2 = Mock()\n",
    "ro_awg_2 = MagicMock()\n",
    "mw_src = Mock()\n",
    "RD = Mock()\n",
    "RD.detect = dg.detect\n",
    "vna.get_sdata = dg.get_sdata\n",
    "vna.set_parameters = dg.set_parameters\n",
    "vna.get_frequencies = dg.get_frequencies\n",
    "vna.set_freq_limits = dg.set_freq_limits\n",
    "vna.set_nop = dg.set_nop\n"
   ]
  },
  {
   "cell_type": "markdown",
   "metadata": {},
   "source": [
    "# CZ"
   ]
  },
  {
   "cell_type": "code",
   "execution_count": 2,
   "metadata": {},
   "outputs": [
    {
     "data": {
      "text/plain": [
       "[<matplotlib.lines.Line2D at 0x272d9909550>]"
      ]
     },
     "execution_count": 2,
     "metadata": {},
     "output_type": "execute_result"
    }
   ],
   "source": [
    "params = [1, -0.09, 0]\n",
    "duration = 150\n",
    "waveform_resolution = 1\n",
    "offset_voltage = 5\n",
    "zero_offset = 1\n",
    "\n",
    "offset = zero_offset + offset_voltage\n",
    "N_time_steps = int(round(duration / waveform_resolution))\n",
    "\n",
    "X = linspace(0, duration, N_time_steps + 1)\n",
    "components = [params[n] * (1 - cos(2*pi*X*(n+1)/duration)) for n in range(len(params))]\n",
    "waveform = sum(components, axis=0) * offset_voltage\n",
    "waveform -= min(abs(waveform)) * sign(offset_voltage)\n",
    "waveform += zero_offset\n",
    "plt.plot(waveform)"
   ]
  },
  {
   "cell_type": "code",
   "execution_count": 6,
   "metadata": {},
   "outputs": [
    {
     "name": "stdout",
     "output_type": "stream",
     "text": [
      "Time left: 2 h 16 m 22.85 s, [z_pulse_offset_voltage: 5.00e-01, interaction_duration: 2.00e+02], average cycle time: 0.2 s       "
     ]
    }
   ],
   "source": [
    "from lib2.CPhaseGateCalibration import *\n",
    "CPGC = CPhaseGateCalibration2D(\"CPhase\", 'lol',\n",
    "                         vna=[vna], q_lo=[q_lo], q_awg=[q_awg], ro_awg=[ro_awg], q_z_awg = [q_z_awg])\n",
    "vna_parameters= {\"bandwidth\":10, \"freq_limits\":[6e9]*2, \"nop\":10, \"averages\":1}\n",
    "q_freq = 5e9\n",
    "interaction_times = linspace(0, 20000, 201)\n",
    "z_pules_offset = linspace(0, 100, 201)\n",
    "sequence_parameters = {\"awg_trigger_reaction_delay\":0, \"readout_duration\":3000, \n",
    "                       \"repetition_period\":30000, \"half_pi_pulse_duration\":100/2,\n",
    "                       'pi_pulse_duration':1, 'z_pulse_offset_voltage':1,\n",
    "                      'pi_pulse_delay':1, 'cz_shape_params':[1, -0.05, 1, 1]}\n",
    "ro_awg_params =  {\"calibration\":MagicMock()}\n",
    "q_awg_params = {\"calibration\":MagicMock()}\n",
    "q_lo_params = {'power':-10, 'frequency':q_freq + 100e6}\n",
    "dev_params = {'vna':[vna_parameters], \n",
    "              'ro_awg':[ro_awg_params], \n",
    "              'q_awg':[q_awg_params],\n",
    "              'q_lo':[q_lo_params]}\n",
    "CPGC.set_fixed_parameters(sequence_parameters, **dev_params)\n",
    "CPGC.set_swept_parameters(z_pules_offset, interaction_times)"
   ]
  },
  {
   "cell_type": "code",
   "execution_count": 7,
   "metadata": {},
   "outputs": [
    {
     "name": "stdout",
     "output_type": "stream",
     "text": [
      "Started at:  2019-02-08 14:22:02.599751\n"
     ]
    },
    {
     "data": {
      "text/plain": [
       "<lib2.CPhaseGateCalibration.CPhaseGateCalibration2DResult at 0x2ac0dcf8828>"
      ]
     },
     "execution_count": 7,
     "metadata": {},
     "output_type": "execute_result"
    },
    {
     "name": "stdout",
     "output_type": "stream",
     "text": [
      "Time left: 2 h 17 m 46.78 s, [z_pulse_offset_voltage: 0.00e+00, interaction_duration: 1.29e+04], average cycle time: 0.21 s       "
     ]
    }
   ],
   "source": [
    "CPGC.launch()"
   ]
  },
  {
   "cell_type": "code",
   "execution_count": 5,
   "metadata": {},
   "outputs": [
    {
     "name": "stdout",
     "output_type": "stream",
     "text": [
      "Measurement was interrupted! \n",
      "\n",
      "Time left: 2 h 18 m 7.58 s, [z_pulse_offset_voltage: 0.00e+00, interaction_duration: 1.92e+04], average cycle time: 0.21 s       "
     ]
    }
   ],
   "source": [
    "CPGC.stop()"
   ]
  },
  {
   "cell_type": "markdown",
   "metadata": {},
   "source": [
    "# SWAP 2D"
   ]
  },
  {
   "cell_type": "code",
   "execution_count": 4,
   "metadata": {},
   "outputs": [
    {
     "name": "stdout",
     "output_type": "stream",
     "text": [
      "Time left: 0 h 0 m 14.72 s, [interaction_duration: 1.28e+04], average cycle time: 0.2 s       "
     ]
    }
   ],
   "source": [
    "from lib2.VacuumRabiOscillations2D import *\n",
    "VRO = VacuumRabiOscillations2D(\"SWAP\", 'lol',\n",
    "                         vna=[vna], q_lo=[q_lo], q_awg=[q_awg], ro_awg=[ro_awg], q_z_awg = [q_z_awg])\n",
    "vna_parameters= {\"bandwidth\":10, \"freq_limits\":[6e9]*2, \"nop\":10, \"averages\":1}\n",
    "q_freq = 5e9\n",
    "interaction_times = linspace(0, 20000, 201)\n",
    "z_pules_offset = linspace(0, 100, 201)\n",
    "sequence_parameters = {\"awg_trigger_reaction_delay\":0, \"readout_duration\":3000, \n",
    "                       \"repetition_period\":30000, \"half_pi_pulse_duration\":100/2,\n",
    "                       'pi_pulse_duration':1, 'z_pulse_offset_voltage':1,\n",
    "                      'pi_pulse_delay':1}\n",
    "ro_awg_params =  {\"calibration\":MagicMock()}\n",
    "q_awg_params = {\"calibration\":MagicMock()}\n",
    "q_lo_params = {'power':-10, 'frequency':q_freq + 100e6}\n",
    "dev_params = {'vna':[vna_parameters], \n",
    "              'ro_awg':[ro_awg_params], \n",
    "              'q_awg':[q_awg_params],\n",
    "              'q_lo':[q_lo_params]}\n",
    "VRO.set_fixed_parameters(sequence_parameters, **dev_params)\n",
    "VRO.set_swept_parameters(z_pules_offset, interaction_times)"
   ]
  },
  {
   "cell_type": "code",
   "execution_count": 5,
   "metadata": {},
   "outputs": [
    {
     "name": "stdout",
     "output_type": "stream",
     "text": [
      "Started at:  2019-02-08 14:21:21.069746\n",
      "Time left: 0 h 0 m 14.52 s, [interaction_duration: 1.29e+04], average cycle time: 0.2 s       "
     ]
    },
    {
     "data": {
      "text/plain": [
       "<lib2.VacuumRabiOscillations2D.VacuumRabiOscillations2DResult at 0x2ac1144b8d0>"
      ]
     },
     "execution_count": 5,
     "metadata": {},
     "output_type": "execute_result"
    },
    {
     "name": "stdout",
     "output_type": "stream",
     "text": [
      "Time left: 0 h 0 m 0.0 s, [interaction_duration: 2.00e+04], average cycle time: 0.2 s       \n",
      "Elapsed time: 0 h 0 m 41.11 s\n",
      "Time left: 2 h 16 m 34.11 s, [z_pulse_offset_voltage: 0.00e+00, interaction_duration: 1.84e+04], average cycle time: 0.2 s       "
     ]
    }
   ],
   "source": [
    "VRO.launch()"
   ]
  },
  {
   "cell_type": "code",
   "execution_count": 9,
   "metadata": {},
   "outputs": [
    {
     "name": "stdout",
     "output_type": "stream",
     "text": [
      "Measurement was interrupted! \n",
      "\n",
      "Time left: 2 h 16 m 55.63 s, [z_pulse_offset_voltage: 0.00e+00, interaction_duration: 1.84e+04], average cycle time: 0.2 s       "
     ]
    }
   ],
   "source": [
    "VRO.stop()"
   ]
  },
  {
   "cell_type": "markdown",
   "metadata": {},
   "source": [
    "# SWAP 1D"
   ]
  },
  {
   "cell_type": "code",
   "execution_count": 2,
   "metadata": {},
   "outputs": [],
   "source": [
    "from lib2.VacuumRabiOscillations import *\n",
    "VRO = VacuumRabiOscillations(\"SWAP\", 'lol',\n",
    "                         vna=[vna], q_lo=[q_lo], q_awg=[q_awg], ro_awg=[ro_awg], q_z_awg = [q_z_awg])\n",
    "vna_parameters= {\"bandwidth\":10, \"freq_limits\":[6e9]*2, \"nop\":10, \"averages\":1}\n",
    "q_freq = 5e9\n",
    "interaction_times = linspace(0, 20000, 201)\n",
    "sequence_parameters = {\"awg_trigger_reaction_delay\":0, \"readout_duration\":3000, \n",
    "                       \"repetition_period\":30000, \"half_pi_pulse_duration\":100/2,\n",
    "                       'pi_pulse_duration':1, 'z_pulse_offset_voltage':1,\n",
    "                      'pi_pulse_delay':1}\n",
    "ro_awg_params =  {\"calibration\":MagicMock()}\n",
    "q_awg_params = {\"calibration\":MagicMock()}\n",
    "q_lo_params = {'power':-10, 'frequency':q_freq + 100e6}\n",
    "dev_params = {'vna':[vna_parameters], \n",
    "              'ro_awg':[ro_awg_params], \n",
    "              'q_awg':[q_awg_params],\n",
    "              'q_lo':[q_lo_params]}\n",
    "VRO.set_fixed_parameters(sequence_parameters, **dev_params)\n",
    "VRO.set_swept_parameters(interaction_times)"
   ]
  },
  {
   "cell_type": "code",
   "execution_count": 3,
   "metadata": {},
   "outputs": [
    {
     "name": "stdout",
     "output_type": "stream",
     "text": [
      "Started at:  2019-02-08 14:20:54.504661\n",
      "Time left: 0 h 0 m 43.74 s, [interaction_duration: 0.00e+00], average cycle time: 0.22 s       "
     ]
    },
    {
     "data": {
      "text/plain": [
       "<lib2.VacuumRabiOscillations.VacuumRabiOscillationsResult at 0x2ac0b6cffd0>"
      ]
     },
     "execution_count": 3,
     "metadata": {},
     "output_type": "execute_result"
    },
    {
     "name": "stdout",
     "output_type": "stream",
     "text": [
      "Time left: 0 h 0 m 41.06 s, [interaction_duration: 6.00e+02], average cycle time: 0.21 s       "
     ]
    },
    {
     "name": "stderr",
     "output_type": "stream",
     "text": [
      "C:\\Users\\Ultmessia\\Anaconda3\\lib\\site-packages\\scipy\\optimize\\minpack.py:794: OptimizeWarning: Covariance of the parameters could not be estimated\n",
      "  category=OptimizeWarning)\n"
     ]
    },
    {
     "name": "stdout",
     "output_type": "stream",
     "text": [
      "Time left: 0 h 0 m 15.96 s, [interaction_duration: 1.22e+04], average cycle time: 0.2 s       "
     ]
    }
   ],
   "source": [
    "VRO.launch()"
   ]
  },
  {
   "cell_type": "markdown",
   "metadata": {
    "toc-hr-collapsed": false
   },
   "source": [
    "# Tomo Joint"
   ]
  },
  {
   "cell_type": "code",
   "execution_count": 2,
   "metadata": {},
   "outputs": [],
   "source": [
    "from lib2.DispersiveJointTomography import *\n",
    "prep_pulses = [[\"-X/2\",\"-X/2\",\"+Z/2\"],\n",
    "               [\"-X/2\",\"-X/2\",\"+Z/2\"]\n",
    "              ]\n",
    "DJT = DispersiveJointTomography('tomo joint', 'lol', \n",
    "                        vna=[vna], q_lo=[q_lo, q_lo], q_awg=[q_awg, q_awg], ro_awg=[ro_awg], q_z_awg=[q_z_awg, q_z_awg])\n",
    "vna_parameters = {\"bandwidth\":10, \"freq_limits\":[6e9]*2, \"nop\":20, \"averages\":1}\n",
    "exc_frequency = 5e9\n",
    "q_freq = 5e9\n",
    "hpi = 1\n",
    "sequence_parameters = {\"awg_trigger_reaction_delay\":0, \"readout_duration\":3e3,\n",
    "                       \"repetition_period\": 15000, \"modulating_window\":\"rectangular\", \"pulse_length\": 200,\n",
    "                       \"pulse_pi_amplitudes\": [hpi*2, hpi*2], 'padding':10, \"tomo_delay\": 10,\n",
    "                       \"prep_pulses\":prep_pulses, \"z_pulse_offset_voltages\": [.1, .1], \"z_pulse_duration\": 17.4, \n",
    "                       \"z_smoothing_coefficient\":2}\n",
    "ro_awg_params =  {\"calibration\":MagicMock()}\n",
    "q_awg_params = {\"calibration\":MagicMock()}\n",
    "q_z_awg_params = {\"calibration\":MagicMock()}\n",
    "q_lo_params = {'power':-10, 'frequency':q_freq + 100e6}\n",
    "dev_params = {'vna':[vna_parameters], \n",
    "              'ro_awg':[ro_awg_params], \n",
    "              'q_awg':[q_awg_params, q_awg_params],\n",
    "              'q_z_awg':[q_z_awg_params, q_z_awg_params],\n",
    "              'q_lo':[q_lo_params, q_lo_params]}\n",
    "\n",
    "tomo_local_rotations = [('+I', '+I'),\n",
    "                        ('+I', '+X/2'),\n",
    "                        ('+I', '+Y/2'),\n",
    "                        ('+I', '+X'),\n",
    "                        ('+X/2', '+I'),\n",
    "                        ('+X/2', '+X/2'),\n",
    "                        ('+X/2', '+Y/2'),\n",
    "                        ('+X/2', '+X'),\n",
    "                        ('+Y/2', '+I'),\n",
    "                        ('+Y/2', '+X/2'),\n",
    "                        ('+Y/2', '+Y/2'),\n",
    "                        ('+Y/2', '+X'),\n",
    "                        ('+X', '+I'),\n",
    "                        ('+X', '+X/2'),\n",
    "                        ('+X', '+Y/2'),\n",
    "                        ('+X', '+X')\n",
    "                       ]\n",
    "betas = (10,2,2,7)\n",
    "\n",
    "DJT.set_fixed_parameters(sequence_parameters, betas, **dev_params)\n",
    "DJT.set_swept_parameters(tomo_local_rotations)\n",
    "DJT.set_basis((1 + 1j,-1 - 1j))"
   ]
  },
  {
   "cell_type": "code",
   "execution_count": 3,
   "metadata": {},
   "outputs": [
    {
     "name": "stdout",
     "output_type": "stream",
     "text": [
      "Started at:  2019-03-25 10:58:04.991121\n",
      "Time left: 0 h 0 m 0.0 s, [tomo_local_rotations: ('+X', '+X')], average cycle time: 0.21 s       \n",
      "Elapsed time: 0 h 0 m 3.38 s\n"
     ]
    }
   ],
   "source": [
    "djt_result = DJT.launch()"
   ]
  },
  {
   "cell_type": "code",
   "execution_count": 4,
   "metadata": {},
   "outputs": [
    {
     "data": {
      "text/plain": [
       "(<Figure size 1500x700 with 4 Axes>,\n",
       " array([<matplotlib.axes._subplots.AxesSubplot object at 0x000001581AE4AF28>,\n",
       "        <matplotlib.axes._subplots.AxesSubplot object at 0x000001581A89C668>],\n",
       "       dtype=object),\n",
       " (<matplotlib.axes._axes.Axes at 0x1581a8c3cc0>,\n",
       "  <matplotlib.axes._axes.Axes at 0x1581a8f4320>))"
      ]
     },
     "execution_count": 4,
     "metadata": {},
     "output_type": "execute_result"
    }
   ],
   "source": [
    "djt_result.visualize()"
   ]
  },
  {
   "cell_type": "code",
   "execution_count": 13,
   "metadata": {},
   "outputs": [
    {
     "data": {
      "application/vnd.jupyter.widget-view+json": {
       "model_id": "6a3180ce3fdd4efe899bf44190ff33b3",
       "version_major": 2,
       "version_minor": 0
      },
      "text/plain": [
       "HBox(children=(IntProgress(value=0, description='Tomography: Likelihood minimization', layout=Layout(flex='2')…"
      ]
     },
     "metadata": {},
     "output_type": "display_data"
    },
    {
     "name": "stderr",
     "output_type": "stream",
     "text": [
      "C:\\Users\\Ultmessia\\Anaconda3\\lib\\site-packages\\scipy\\optimize\\optimize.py:663: ComplexWarning: Casting complex values to real discards the imaginary part\n",
      "  grad[k] = (f(*((xk + d,) + args)) - f0) / d[k]\n",
      "C:\\Users\\Ultmessia\\Anaconda3\\lib\\site-packages\\scipy\\optimize\\lbfgsb.py:328: ComplexWarning: Casting complex values to real discards the imaginary part\n",
      "  isave, dsave, maxls)\n"
     ]
    },
    {
     "name": "stdout",
     "output_type": "stream",
     "text": [
      "\n"
     ]
    },
    {
     "data": {
      "text/latex": [
       "Quantum object: dims = [[2, 2], [2, 2]], shape = (4, 4), type = oper, isherm = True\\begin{equation*}\\left(\\begin{array}{*{11}c}0.248 & (0.009+0.009j) & (0.015+0.015j) & (0.002-0.221j)\\\\(0.009-0.009j) & 0.246 & (-0.219-0.001j) & (0.013+0.013j)\\\\(0.015-0.015j) & (-0.219+0.001j) & 0.252 & (0.005+0.005j)\\\\(0.002+0.221j) & (0.013-0.013j) & (0.005-0.005j) & 0.254\\\\\\end{array}\\right)\\end{equation*}"
      ],
      "text/plain": [
       "Quantum object: dims = [[2, 2], [2, 2]], shape = (4, 4), type = oper, isherm = True\n",
       "Qobj data =\n",
       "[[ 0.24761793+0.j          0.00887562+0.00869025j  0.01473898+0.01481645j\n",
       "   0.00204275-0.22133569j]\n",
       " [ 0.00887562-0.00869025j  0.24638256+0.j         -0.21949022-0.00106492j\n",
       "   0.01325276+0.01343403j]\n",
       " [ 0.01473898-0.01481645j -0.21949022+0.00106492j  0.25170291+0.j\n",
       "   0.00490003+0.00475097j]\n",
       " [ 0.00204275+0.22133569j  0.01325276-0.01343403j  0.00490003-0.00475097j\n",
       "   0.2542966 +0.j        ]]"
      ]
     },
     "execution_count": 13,
     "metadata": {},
     "output_type": "execute_result"
    }
   ],
   "source": [
    "djt_result.find_density_matrix()"
   ]
  },
  {
   "cell_type": "markdown",
   "metadata": {},
   "source": [
    "## Convergence test"
   ]
  },
  {
   "cell_type": "code",
   "execution_count": 7,
   "metadata": {},
   "outputs": [
    {
     "data": {
      "text/latex": [
       "Quantum object: dims = [[2, 2], [2, 2]], shape = (4, 4), type = oper, isherm = True\\begin{equation*}\\left(\\begin{array}{*{11}c}0.500 & 0.0 & 0.0 & 0.500\\\\0.0 & 0.0 & 0.0 & 0.0\\\\0.0 & 0.0 & 0.0 & 0.0\\\\0.500 & 0.0 & 0.0 & 0.500\\\\\\end{array}\\right)\\end{equation*}"
      ],
      "text/plain": [
       "Quantum object: dims = [[2, 2], [2, 2]], shape = (4, 4), type = oper, isherm = True\n",
       "Qobj data =\n",
       "[[0.5 0.  0.  0.5]\n",
       " [0.  0.  0.  0. ]\n",
       " [0.  0.  0.  0. ]\n",
       " [0.5 0.  0.  0.5]]"
      ]
     },
     "execution_count": 7,
     "metadata": {},
     "output_type": "execute_result"
    }
   ],
   "source": [
    "true_state = (tensor(basis(2,0), basis(2,0)) + tensor(basis(2,1), basis(2,1))) / sqrt(2)\n",
    "true = true_state*true_state.dag()\n",
    "true"
   ]
  },
  {
   "cell_type": "code",
   "execution_count": 8,
   "metadata": {},
   "outputs": [
    {
     "data": {
      "application/vnd.jupyter.widget-view+json": {
       "model_id": "a0199055779d4cb98d673d895144d781",
       "version_major": 2,
       "version_minor": 0
      },
      "text/plain": [
       "HBox(children=(IntProgress(value=0, description='Tomography: Likelihood minimization', layout=Layout(flex='2')…"
      ]
     },
     "metadata": {},
     "output_type": "display_data"
    },
    {
     "name": "stdout",
     "output_type": "stream",
     "text": [
      "\n"
     ]
    },
    {
     "data": {
      "text/latex": [
       "Quantum object: dims = [[2, 2], [2, 2]], shape = (4, 4), type = oper, isherm = True\\begin{equation*}\\left(\\begin{array}{*{11}c}0.500 & (-7.724\\times10^{-07}-2.468\\times10^{-07}j) & (-4.193\\times10^{-07}+1.544\\times10^{-07}j) & (0.500+4.260\\times10^{-07}j)\\\\(-7.724\\times10^{-07}+2.468\\times10^{-07}j) & 5.599\\times10^{-09} & (-4.595\\times10^{-08}+2.355\\times10^{-08}j) & (-8.323\\times10^{-07}+1.773\\times10^{-07}j)\\\\(-4.193\\times10^{-07}-1.544\\times10^{-07}j) & (-4.595\\times10^{-08}-2.355\\times10^{-08}j) & 2.388\\times10^{-06} & (-1.190\\times10^{-06}-1.063\\times10^{-07}j)\\\\(0.500-4.260\\times10^{-07}j) & (-8.323\\times10^{-07}-1.773\\times10^{-07}j) & (-1.190\\times10^{-06}+1.063\\times10^{-07}j) & 0.500\\\\\\end{array}\\right)\\end{equation*}"
      ],
      "text/plain": [
       "Quantum object: dims = [[2, 2], [2, 2]], shape = (4, 4), type = oper, isherm = True\n",
       "Qobj data =\n",
       "[[ 4.99998572e-01+0.00000000e+00j -7.72384693e-07-2.46758869e-07j\n",
       "  -4.19309699e-07+1.54377340e-07j  4.99997619e-01+4.26032643e-07j]\n",
       " [-7.72384693e-07+2.46758869e-07j  5.59874496e-09+0.00000000e+00j\n",
       "  -4.59509162e-08+2.35453328e-08j -8.32252659e-07+1.77297775e-07j]\n",
       " [-4.19309699e-07-1.54377340e-07j -4.59509162e-08-2.35453328e-08j\n",
       "   2.38849110e-06+0.00000000e+00j -1.18974413e-06-1.06307444e-07j]\n",
       " [ 4.99997619e-01-4.26032643e-07j -8.32252659e-07-1.77297775e-07j\n",
       "  -1.18974413e-06+1.06307444e-07j  4.99999034e-01+0.00000000e+00j]]"
      ]
     },
     "execution_count": 8,
     "metadata": {},
     "output_type": "execute_result"
    }
   ],
   "source": [
    "djt_result.find_density_matrix_sim(true)"
   ]
  },
  {
   "cell_type": "code",
   "execution_count": 11,
   "metadata": {},
   "outputs": [
    {
     "data": {
      "text/plain": [
       "(array([ 1.,  0.,  1.,  2.,  3.,  1.,  3.,  4., 10.,  5.]),\n",
       " array([0.99998428, 0.99998569, 0.99998711, 0.99998852, 0.99998994,\n",
       "        0.99999136, 0.99999277, 0.99999419, 0.9999956 , 0.99999702,\n",
       "        0.99999843]),\n",
       " <a list of 10 Patch objects>)"
      ]
     },
     "execution_count": 11,
     "metadata": {},
     "output_type": "execute_result"
    }
   ],
   "source": [
    "plt.hist(fid)"
   ]
  },
  {
   "cell_type": "code",
   "execution_count": 9,
   "metadata": {},
   "outputs": [
    {
     "data": {
      "application/vnd.jupyter.widget-view+json": {
       "model_id": "4e711521d5304acf9a559e7a2d8d8515",
       "version_major": 2,
       "version_minor": 0
      },
      "text/plain": [
       "HBox(children=(IntProgress(value=0, max=30), HTML(value='')))"
      ]
     },
     "metadata": {},
     "output_type": "display_data"
    },
    {
     "data": {
      "application/vnd.jupyter.widget-view+json": {
       "model_id": "6357bde6ee504bb4b092a811836ac6cc",
       "version_major": 2,
       "version_minor": 0
      },
      "text/plain": [
       "HBox(children=(IntProgress(value=0, description='Tomography: Likelihood minimization', layout=Layout(flex='2')…"
      ]
     },
     "metadata": {},
     "output_type": "display_data"
    },
    {
     "data": {
      "application/vnd.jupyter.widget-view+json": {
       "model_id": "f00f8d41e4b14d0cb7ac71c436bea2e9",
       "version_major": 2,
       "version_minor": 0
      },
      "text/plain": [
       "HBox(children=(IntProgress(value=0, description='Tomography: Likelihood minimization', layout=Layout(flex='2')…"
      ]
     },
     "metadata": {},
     "output_type": "display_data"
    },
    {
     "data": {
      "application/vnd.jupyter.widget-view+json": {
       "model_id": "4614813574824b9ba5d658b0cbe294a7",
       "version_major": 2,
       "version_minor": 0
      },
      "text/plain": [
       "HBox(children=(IntProgress(value=0, description='Tomography: Likelihood minimization', layout=Layout(flex='2')…"
      ]
     },
     "metadata": {},
     "output_type": "display_data"
    },
    {
     "data": {
      "application/vnd.jupyter.widget-view+json": {
       "model_id": "04f8273b1c0747198be9baca7214a8c1",
       "version_major": 2,
       "version_minor": 0
      },
      "text/plain": [
       "HBox(children=(IntProgress(value=0, description='Tomography: Likelihood minimization', layout=Layout(flex='2')…"
      ]
     },
     "metadata": {},
     "output_type": "display_data"
    },
    {
     "data": {
      "application/vnd.jupyter.widget-view+json": {
       "model_id": "e8439703ef6042b38ad6ce7f3d66545b",
       "version_major": 2,
       "version_minor": 0
      },
      "text/plain": [
       "HBox(children=(IntProgress(value=0, description='Tomography: Likelihood minimization', layout=Layout(flex='2')…"
      ]
     },
     "metadata": {},
     "output_type": "display_data"
    },
    {
     "data": {
      "application/vnd.jupyter.widget-view+json": {
       "model_id": "8b37a51752344cfa9b21e6dd3cfa44e7",
       "version_major": 2,
       "version_minor": 0
      },
      "text/plain": [
       "HBox(children=(IntProgress(value=0, description='Tomography: Likelihood minimization', layout=Layout(flex='2')…"
      ]
     },
     "metadata": {},
     "output_type": "display_data"
    },
    {
     "data": {
      "application/vnd.jupyter.widget-view+json": {
       "model_id": "370edc91e12d4b66876bd3476556d3f0",
       "version_major": 2,
       "version_minor": 0
      },
      "text/plain": [
       "HBox(children=(IntProgress(value=0, description='Tomography: Likelihood minimization', layout=Layout(flex='2')…"
      ]
     },
     "metadata": {},
     "output_type": "display_data"
    },
    {
     "data": {
      "application/vnd.jupyter.widget-view+json": {
       "model_id": "31d0de5cf11e4d42a5dce820e8850e3a",
       "version_major": 2,
       "version_minor": 0
      },
      "text/plain": [
       "HBox(children=(IntProgress(value=0, description='Tomography: Likelihood minimization', layout=Layout(flex='2')…"
      ]
     },
     "metadata": {},
     "output_type": "display_data"
    },
    {
     "data": {
      "application/vnd.jupyter.widget-view+json": {
       "model_id": "4d1fecd089ab41b7a12a3616da91ff51",
       "version_major": 2,
       "version_minor": 0
      },
      "text/plain": [
       "HBox(children=(IntProgress(value=0, description='Tomography: Likelihood minimization', layout=Layout(flex='2')…"
      ]
     },
     "metadata": {},
     "output_type": "display_data"
    },
    {
     "data": {
      "application/vnd.jupyter.widget-view+json": {
       "model_id": "1b398d26623a4e5bb2555f0f3c5f7ce4",
       "version_major": 2,
       "version_minor": 0
      },
      "text/plain": [
       "HBox(children=(IntProgress(value=0, description='Tomography: Likelihood minimization', layout=Layout(flex='2')…"
      ]
     },
     "metadata": {},
     "output_type": "display_data"
    },
    {
     "data": {
      "application/vnd.jupyter.widget-view+json": {
       "model_id": "7c12c9ce68cd464599d8b92b9e5d0052",
       "version_major": 2,
       "version_minor": 0
      },
      "text/plain": [
       "HBox(children=(IntProgress(value=0, description='Tomography: Likelihood minimization', layout=Layout(flex='2')…"
      ]
     },
     "metadata": {},
     "output_type": "display_data"
    },
    {
     "data": {
      "application/vnd.jupyter.widget-view+json": {
       "model_id": "b93a80756e2b4395888941e5cef6eda9",
       "version_major": 2,
       "version_minor": 0
      },
      "text/plain": [
       "HBox(children=(IntProgress(value=0, description='Tomography: Likelihood minimization', layout=Layout(flex='2')…"
      ]
     },
     "metadata": {},
     "output_type": "display_data"
    },
    {
     "data": {
      "application/vnd.jupyter.widget-view+json": {
       "model_id": "018fa6416e5f4ab8ad5c32e4e7679d57",
       "version_major": 2,
       "version_minor": 0
      },
      "text/plain": [
       "HBox(children=(IntProgress(value=0, description='Tomography: Likelihood minimization', layout=Layout(flex='2')…"
      ]
     },
     "metadata": {},
     "output_type": "display_data"
    },
    {
     "data": {
      "application/vnd.jupyter.widget-view+json": {
       "model_id": "c6f7bfb58e274284bd66679a2865f321",
       "version_major": 2,
       "version_minor": 0
      },
      "text/plain": [
       "HBox(children=(IntProgress(value=0, description='Tomography: Likelihood minimization', layout=Layout(flex='2')…"
      ]
     },
     "metadata": {},
     "output_type": "display_data"
    },
    {
     "data": {
      "application/vnd.jupyter.widget-view+json": {
       "model_id": "f7fdbb93defe44d0981340a7b9be409d",
       "version_major": 2,
       "version_minor": 0
      },
      "text/plain": [
       "HBox(children=(IntProgress(value=0, description='Tomography: Likelihood minimization', layout=Layout(flex='2')…"
      ]
     },
     "metadata": {},
     "output_type": "display_data"
    },
    {
     "data": {
      "application/vnd.jupyter.widget-view+json": {
       "model_id": "38184e1cd85c407998efb6afbf28bbc0",
       "version_major": 2,
       "version_minor": 0
      },
      "text/plain": [
       "HBox(children=(IntProgress(value=0, description='Tomography: Likelihood minimization', layout=Layout(flex='2')…"
      ]
     },
     "metadata": {},
     "output_type": "display_data"
    },
    {
     "data": {
      "application/vnd.jupyter.widget-view+json": {
       "model_id": "6256c1438a5846ea9fe4d33b652731b3",
       "version_major": 2,
       "version_minor": 0
      },
      "text/plain": [
       "HBox(children=(IntProgress(value=0, description='Tomography: Likelihood minimization', layout=Layout(flex='2')…"
      ]
     },
     "metadata": {},
     "output_type": "display_data"
    },
    {
     "data": {
      "application/vnd.jupyter.widget-view+json": {
       "model_id": "fdbcae0ad3114b6d98d91cc167eb7bb9",
       "version_major": 2,
       "version_minor": 0
      },
      "text/plain": [
       "HBox(children=(IntProgress(value=0, description='Tomography: Likelihood minimization', layout=Layout(flex='2')…"
      ]
     },
     "metadata": {},
     "output_type": "display_data"
    },
    {
     "data": {
      "application/vnd.jupyter.widget-view+json": {
       "model_id": "90a5b26a42bd4375aba0735866642585",
       "version_major": 2,
       "version_minor": 0
      },
      "text/plain": [
       "HBox(children=(IntProgress(value=0, description='Tomography: Likelihood minimization', layout=Layout(flex='2')…"
      ]
     },
     "metadata": {},
     "output_type": "display_data"
    },
    {
     "data": {
      "application/vnd.jupyter.widget-view+json": {
       "model_id": "4bc7abeae7734bcba031f6e467bfdb90",
       "version_major": 2,
       "version_minor": 0
      },
      "text/plain": [
       "HBox(children=(IntProgress(value=0, description='Tomography: Likelihood minimization', layout=Layout(flex='2')…"
      ]
     },
     "metadata": {},
     "output_type": "display_data"
    },
    {
     "data": {
      "application/vnd.jupyter.widget-view+json": {
       "model_id": "0fe4564008c242509cbbb7074e5b0269",
       "version_major": 2,
       "version_minor": 0
      },
      "text/plain": [
       "HBox(children=(IntProgress(value=0, description='Tomography: Likelihood minimization', layout=Layout(flex='2')…"
      ]
     },
     "metadata": {},
     "output_type": "display_data"
    },
    {
     "data": {
      "application/vnd.jupyter.widget-view+json": {
       "model_id": "93ac6998d0b44178892f7b5edd07e9a3",
       "version_major": 2,
       "version_minor": 0
      },
      "text/plain": [
       "HBox(children=(IntProgress(value=0, description='Tomography: Likelihood minimization', layout=Layout(flex='2')…"
      ]
     },
     "metadata": {},
     "output_type": "display_data"
    },
    {
     "data": {
      "application/vnd.jupyter.widget-view+json": {
       "model_id": "39fa4b88760f4021a09fb061ad103d24",
       "version_major": 2,
       "version_minor": 0
      },
      "text/plain": [
       "HBox(children=(IntProgress(value=0, description='Tomography: Likelihood minimization', layout=Layout(flex='2')…"
      ]
     },
     "metadata": {},
     "output_type": "display_data"
    },
    {
     "data": {
      "application/vnd.jupyter.widget-view+json": {
       "model_id": "6018d22876244ccead0a87f9abaebc3b",
       "version_major": 2,
       "version_minor": 0
      },
      "text/plain": [
       "HBox(children=(IntProgress(value=0, description='Tomography: Likelihood minimization', layout=Layout(flex='2')…"
      ]
     },
     "metadata": {},
     "output_type": "display_data"
    },
    {
     "data": {
      "application/vnd.jupyter.widget-view+json": {
       "model_id": "18e4463d4b5b47d589c456310606d56d",
       "version_major": 2,
       "version_minor": 0
      },
      "text/plain": [
       "HBox(children=(IntProgress(value=0, description='Tomography: Likelihood minimization', layout=Layout(flex='2')…"
      ]
     },
     "metadata": {},
     "output_type": "display_data"
    },
    {
     "data": {
      "application/vnd.jupyter.widget-view+json": {
       "model_id": "d50edb255aa54a0a85d681a6737699eb",
       "version_major": 2,
       "version_minor": 0
      },
      "text/plain": [
       "HBox(children=(IntProgress(value=0, description='Tomography: Likelihood minimization', layout=Layout(flex='2')…"
      ]
     },
     "metadata": {},
     "output_type": "display_data"
    },
    {
     "data": {
      "application/vnd.jupyter.widget-view+json": {
       "model_id": "5d2511a0c86b4d3788d3d51dc0d71e63",
       "version_major": 2,
       "version_minor": 0
      },
      "text/plain": [
       "HBox(children=(IntProgress(value=0, description='Tomography: Likelihood minimization', layout=Layout(flex='2')…"
      ]
     },
     "metadata": {},
     "output_type": "display_data"
    },
    {
     "data": {
      "application/vnd.jupyter.widget-view+json": {
       "model_id": "25bd4ac41cf34c4b9bf01b68b6d3812a",
       "version_major": 2,
       "version_minor": 0
      },
      "text/plain": [
       "HBox(children=(IntProgress(value=0, description='Tomography: Likelihood minimization', layout=Layout(flex='2')…"
      ]
     },
     "metadata": {},
     "output_type": "display_data"
    },
    {
     "data": {
      "application/vnd.jupyter.widget-view+json": {
       "model_id": "90bc0d730aa44d9ebd7fc033d90f5b90",
       "version_major": 2,
       "version_minor": 0
      },
      "text/plain": [
       "HBox(children=(IntProgress(value=0, description='Tomography: Likelihood minimization', layout=Layout(flex='2')…"
      ]
     },
     "metadata": {},
     "output_type": "display_data"
    },
    {
     "data": {
      "application/vnd.jupyter.widget-view+json": {
       "model_id": "c2767cdebf3a4bc6bcb7c3b6a19444b2",
       "version_major": 2,
       "version_minor": 0
      },
      "text/plain": [
       "HBox(children=(IntProgress(value=0, description='Tomography: Likelihood minimization', layout=Layout(flex='2')…"
      ]
     },
     "metadata": {},
     "output_type": "display_data"
    },
    {
     "name": "stdout",
     "output_type": "stream",
     "text": [
      "\n"
     ]
    }
   ],
   "source": [
    "fid = []\n",
    "for i in tqdm_notebook(range(30)):\n",
    "    find = djt_result.find_density_matrix\n",
    "    fid.append(fidelity(true,find))"
   ]
  },
  {
   "cell_type": "markdown",
   "metadata": {},
   "source": [
    "## plotting tests"
   ]
  },
  {
   "cell_type": "code",
   "execution_count": 13,
   "metadata": {},
   "outputs": [
    {
     "data": {
      "text/plain": [
       "['+I', '+X/2', '+Y/2', '+X', '+X/7']"
      ]
     },
     "execution_count": 13,
     "metadata": {},
     "output_type": "execute_result"
    }
   ],
   "source": [
    "keys1"
   ]
  },
  {
   "cell_type": "code",
   "execution_count": 7,
   "metadata": {},
   "outputs": [
    {
     "data": {
      "text/plain": [
       "{'+I': {'+I': (0.11757890635775581+0.11757890635775581j),\n",
       "  '+X/2': (0.1516466453264173+0.1516466453264173j),\n",
       "  '+Y/2': (0.1891950158646678+0.1891950158646678j),\n",
       "  '+X': (0.22984884706593012+0.22984884706593012j)},\n",
       " '+X/2': {'+I': None,\n",
       "  '+X/2': (0.2732019392872113+0.2732019392872113j),\n",
       "  '+Y/2': None,\n",
       "  '+X': None},\n",
       " '+Y/2': {'+I': None,\n",
       "  '+X/2': None,\n",
       "  '+Y/2': (0.3188211227616633+0.3188211227616633j),\n",
       "  '+X': None},\n",
       " '+X': {'+I': None,\n",
       "  '+X/2': None,\n",
       "  '+Y/2': None,\n",
       "  '+X': (0.3662505856877063+0.3662505856877063j)},\n",
       " '+X/7': {'+I': None,\n",
       "  '+X/2': None,\n",
       "  '+Y/2': None,\n",
       "  '+X': (0.4150164285498796+0.4150164285498796j)}}"
      ]
     },
     "execution_count": 7,
     "metadata": {},
     "output_type": "execute_result"
    }
   ],
   "source": [
    "all_data = djt_result.get_data()\n",
    "keys1 = [x[0] for x in all_data['tomo_local_rotations']]\n",
    "keys2 = [x[1] for x in all_data['tomo_local_rotations']]\n",
    "data_dict = dict.fromkeys(keys1)\n",
    "for key in data_dict.keys():\n",
    "    data_dict[key] = dict.fromkeys(keys2)\n",
    "keys1 = list(data_dict.keys())\n",
    "keys2 = list(data_dict[keys1[0]].keys())\n",
    "list(zip(all_data['tomo_local_rotations'], all_data['data']))\n",
    "for ((rot1, rot2), res) in zip(all_data['tomo_local_rotations'], all_data['data']):\n",
    "    data_dict[rot1][rot2] = res\n",
    "data_dict"
   ]
  },
  {
   "cell_type": "code",
   "execution_count": 9,
   "metadata": {},
   "outputs": [],
   "source": [
    "fig, axes = plt.subplots(1,2)\n",
    "data_matrix = [[data_dict[k1][k2] if data_dict[k1][k2] is not None else 0\n",
    "                                      for k2 in keys2] for k1 in keys1]\n",
    "axes[0].imshow(abs(data_matrix))\n",
    "axes[0].set_title('Real')\n",
    "axes[1].imshow(angle(data_matrix))\n",
    "axes[1].set_title('Imag')\n",
    "for ax in axes:\n",
    "    ax.set_xlabel('Qubit 1 local rotations')\n",
    "    ax.set_ylabel('Qubit 2 local rotations')\n",
    "    ax.set_xticks(range(len(keys2)))\n",
    "    ax.set_yticks(range(len(keys1)))\n",
    "    ax.set_xticklabels(keys2)\n",
    "    ax.set_yticklabels(keys1)\n",
    "    for i in range(len(keys1)):\n",
    "        for j in range(len(keys2)):\n",
    "            if data_dict[keys1[i]][keys2[j]] is None:\n",
    "                ax.text(j, i, 'No data', ha=\"center\", va=\"center\", color=\"w\")"
   ]
  },
  {
   "cell_type": "markdown",
   "metadata": {},
   "source": [
    "# Tomo 1q"
   ]
  },
  {
   "cell_type": "code",
   "execution_count": 2,
   "metadata": {},
   "outputs": [],
   "source": [
    "from lib2.DispersiveRadialTomography import *\n",
    "prep_pulse = [\"-X/2\",\"-X/2\",\"+Z/2\"]\n",
    "s_prep = [pulse.replace('/','_') for pulse in prep_pulse]\n",
    "DRT = DispersiveRadialTomography('tomo 1q'.join(s_prep), 'lol', \n",
    "                        vna=[vna], q_lo=[q_lo], q_awg=[q_awg], ro_awg=[ro_awg], q_z_awg=[q_z_awg])\n",
    "vna_parameters = {\"bandwidth\":10, \"freq_limits\":[6e9]*2, \"nop\":20, \"averages\":1}\n",
    "exc_frequency = 5e9\n",
    "q_freq = 5e9\n",
    "hpi = 1\n",
    "exc_amplitudes = linspace(0, 1, 11)*hpi\n",
    "tomo_phases = linspace(0, 2*pi, 22, endpoint=False)\n",
    "sequence_parameters = {\"awg_trigger_reaction_delay\":0, \"readout_duration\":3e3,\n",
    "                       \"repetition_period\": 15000, \"modulating_window\":\"rectangular\", \"pulse_length\": 200,\n",
    "                       \"prep_pulse_pi_amplitude\": hpi*2, 'padding':10, \"tomo_delay\": 10,\n",
    "                       \"prep_pulse\":prep_pulse, \"z_pulse_offset_voltage\": .1, \"z_pulse_duration\": 17.4, \n",
    "                       \"z_smoothing_coefficient\":2}\n",
    "ro_awg_params =  {\"calibration\":MagicMock()}\n",
    "q_awg_params = {\"calibration\":MagicMock()}\n",
    "q_z_awg_params = {\"calibration\":MagicMock()}\n",
    "q_lo_params = {'power':-10, 'frequency':q_freq + 100e6}\n",
    "dev_params = {'vna':[vna_parameters], \n",
    "              'ro_awg':[ro_awg_params], \n",
    "              'q_awg':[q_awg_params],\n",
    "              'q_z_awg':[q_z_awg_params],\n",
    "              'q_lo':[q_lo_params]}\n",
    "\n",
    "DRT.set_fixed_parameters(sequence_parameters, **dev_params)\n",
    "DRT.set_swept_parameters(tomo_phases, exc_amplitudes)\n",
    "DRT.set_basis((1 + 1j,-1 - 1j))"
   ]
  },
  {
   "cell_type": "code",
   "execution_count": 3,
   "metadata": {},
   "outputs": [
    {
     "name": "stdout",
     "output_type": "stream",
     "text": [
      "Started at:  2018-11-24 14:07:43.408387\n",
      "Time left: 0 h 0 m 0.0 s, [tomo_pulse_amplitude: 1.00e+00, tomo_phase: 6.00e+00], average cycle time: 0.11 s       \n",
      "Elapsed time: 0 h 0 m 26.64 s\n"
     ]
    }
   ],
   "source": [
    "drt_result = DRT.launch()"
   ]
  },
  {
   "cell_type": "markdown",
   "metadata": {},
   "source": [
    "# Tomo 1q"
   ]
  },
  {
   "cell_type": "code",
   "execution_count": 5,
   "metadata": {},
   "outputs": [],
   "source": [
    "from lib2.DispersiveRadialTomography import *\n",
    "prep_pulse = [\"-X/2\",\"-X/2\",\"+Z/2\"]\n",
    "s_prep = [pulse.replace('/','_') for pulse in prep_pulse]\n",
    "DRT = DispersiveRadialTomography('tomo 1q'.join(s_prep), 'lol', \n",
    "                        vna=[vna], q_lo=[q_lo], q_awg=[q_awg], ro_awg=[ro_awg], q_z_awg=[q_z_awg])\n",
    "vna_parameters = {\"bandwidth\":10, \"freq_limits\":[6e9]*2, \"nop\":20, \"averages\":1}\n",
    "exc_frequency = 5e9\n",
    "q_freq = 5e9\n",
    "hpi = 1\n",
    "exc_amplitudes = linspace(0, 1, 11)*hpi\n",
    "tomo_phases = linspace(0, 2*pi, 22, endpoint=False)\n",
    "sequence_parameters = {\"awg_trigger_reaction_delay\":0, \"readout_duration\":3e3,\n",
    "                       \"repetition_period\": 15000, \"modulating_window\":\"rectangular\", \"pulse_length\": 200,\n",
    "                       \"prep_pulse_pi_amplitude\": hpi*2, 'padding':10, \"tomo_delay\": 10,\n",
    "                       \"prep_pulse\":prep_pulse, \"z_pulse_offset_voltage\": .1, \"z_pulse_duration\": 17.4, \n",
    "                       \"z_smoothing_coefficient\":2}\n",
    "ro_awg_params =  {\"calibration\":MagicMock()}\n",
    "q_awg_params = {\"calibration\":MagicMock()}\n",
    "q_z_awg_params = {\"calibration\":MagicMock()}\n",
    "q_lo_params = {'power':-10, 'frequency':q_freq + 100e6}\n",
    "dev_params = {'vna':[vna_parameters], \n",
    "              'ro_awg':[ro_awg_params], \n",
    "              'q_awg':[q_awg_params],\n",
    "              'q_z_awg':[q_z_awg_params],\n",
    "              'q_lo':[q_lo_params]}\n",
    "\n",
    "DRT.set_fixed_parameters(sequence_parameters, **dev_params)\n",
    "DRT.set_swept_parameters(tomo_phases, exc_amplitudes)\n",
    "DRT.set_basis((1 + 1j,-1 - 1j))"
   ]
  },
  {
   "cell_type": "code",
   "execution_count": 6,
   "metadata": {},
   "outputs": [
    {
     "name": "stdout",
     "output_type": "stream",
     "text": [
      "Started at:  2018-11-26 18:29:22.466149\n",
      "Time left: 0 h 0 m 22.21 s, [tomo_pulse_amplitude: 1.00e-01, tomo_phase: 3.14e+00], average cycle time: 0.11 s       "
     ]
    }
   ],
   "source": [
    "drt_result = DRT.launch()"
   ]
  },
  {
   "cell_type": "code",
   "execution_count": 7,
   "metadata": {},
   "outputs": [
    {
     "name": "stdout",
     "output_type": "stream",
     "text": [
      "Measurement was interrupted! \n",
      "\n",
      "Time left: 0 h 0 m 22.07 s, [tomo_pulse_amplitude: 1.00e-01, tomo_phase: 3.43e+00], average cycle time: 0.11 s       "
     ]
    }
   ],
   "source": [
    "DRT.stop()"
   ]
  },
  {
   "cell_type": "markdown",
   "metadata": {},
   "source": [
    "# Echo"
   ]
  },
  {
   "cell_type": "code",
   "execution_count": 2,
   "metadata": {},
   "outputs": [],
   "source": [
    "from lib2.DispersiveHahnEcho import *\n",
    "DHE = DispersiveHahnEcho(\"hahn-echo\", 'lol',\n",
    "                         vna=[vna], q_lo=[q_lo], q_awg=[q_awg], ro_awg=[ro_awg])\n",
    "vna_parameters= {\"bandwidth\":10, \"freq_limits\":[6e9]*2, \"nop\":10, \"averages\":1}\n",
    "q_freq = 5e9\n",
    "echo_delays = linspace(0, 20000, 201)\n",
    "sequence_parameters = {\"awg_trigger_reaction_delay\":0, \"readout_duration\":3000, \n",
    "                            \"repetition_period\":30000, \"half_pi_pulse_duration\":100/2}\n",
    "ro_awg_params =  {\"calibration\":MagicMock()}\n",
    "q_awg_params = {\"calibration\":MagicMock()}\n",
    "q_lo_params = {'power':-10, 'frequency':q_freq + 100e6}\n",
    "dev_params = {'vna':[vna_parameters], \n",
    "              'ro_awg':[ro_awg_params], \n",
    "              'q_awg':[q_awg_params],\n",
    "              'q_lo':[q_lo_params]}\n",
    "DHE.set_fixed_parameters(sequence_parameters, **dev_params)\n",
    "DHE.set_swept_parameters(echo_delays)\n",
    "# DHE.set_ult_calib(True)\n",
    "# DHE.set_basis(basis)"
   ]
  },
  {
   "cell_type": "code",
   "execution_count": 3,
   "metadata": {},
   "outputs": [
    {
     "name": "stdout",
     "output_type": "stream",
     "text": [
      "Started at:  2018-11-26 18:36:56.214881\n",
      "Time left: 0 h 0 m 8.78 s, [echo_delay: 1.15e+04], average cycle time: 0.1 s       "
     ]
    }
   ],
   "source": [
    "dhe_result = DHE.launch()"
   ]
  },
  {
   "cell_type": "markdown",
   "metadata": {},
   "source": [
    "# Decay"
   ]
  },
  {
   "cell_type": "code",
   "execution_count": 3,
   "metadata": {},
   "outputs": [],
   "source": [
    "from lib2.DispersiveDecay import *\n",
    "DD = DispersiveDecay(\"decay\", 'lol',\n",
    "                     vna=[vna], q_lo=[q_lo], q_awg=[q_awg], ro_awg=[ro_awg])\n",
    "vna_parameters= {\"bandwidth\":10, \"freq_limits\":[6e9]*2, \"nop\":10, \"averages\":1}\n",
    "q_freq = 5e9\n",
    "readout_delays = linspace(0, 20000, 51)\n",
    "decay_sequence_parameters = {\"awg_trigger_reaction_delay\":0, \"readout_duration\":3000, \n",
    "                            \"repetition_period\":30000, \"pi_pulse_duration\":100}\n",
    "ro_awg_params =  {\"calibration\":MagicMock()}\n",
    "q_awg_params = {\"calibration\":MagicMock()}\n",
    "q_lo_params = {'power':-10, 'frequency':q_freq + 100e6}\n",
    "dev_params = {'vna':[vna_parameters], \n",
    "              'ro_awg':[ro_awg_params], \n",
    "              'q_awg':[q_awg_params],\n",
    "              'q_lo':[q_lo_params]}\n",
    "DD.set_fixed_parameters(decay_sequence_parameters, **dev_params)\n",
    "DD.set_swept_parameters(readout_delays)\n",
    "#DD.set_basis(basis)"
   ]
  },
  {
   "cell_type": "code",
   "execution_count": 4,
   "metadata": {},
   "outputs": [
    {
     "name": "stdout",
     "output_type": "stream",
     "text": [
      "Started at:  2018-11-20 18:03:04.460196\n",
      "Time left: 0 h 0 m 2.27 s, [readout_delay: 1.56e+04], average cycle time: 0.21 s       "
     ]
    },
    {
     "name": "stderr",
     "output_type": "stream",
     "text": [
      "C:\\Users\\pogor\\YandexDisk\\Ustinov internship\\Measurement-automation\\lib2\\VNATimeResolvedDispersiveMeasurement1D.py:81: RuntimeWarning: invalid value encountered in sqrt\n",
      "  return result, sqrt(diag(sigma**2*inv(result.jac.T.dot(result.jac))))\n"
     ]
    },
    {
     "name": "stdout",
     "output_type": "stream",
     "text": [
      "Time left: 0 h 0 m 0.0 s, [readout_delay: 2.00e+04], average cycle time: 0.21 s       \n",
      "Elapsed time: 0 h 0 m 10.51 s\n"
     ]
    }
   ],
   "source": [
    "dd_result = DD.launch()"
   ]
  },
  {
   "cell_type": "code",
   "execution_count": 878,
   "metadata": {},
   "outputs": [],
   "source": [
    "dd_result.visualize();"
   ]
  },
  {
   "cell_type": "markdown",
   "metadata": {},
   "source": [
    "# Ramsey"
   ]
  },
  {
   "cell_type": "code",
   "execution_count": 2,
   "metadata": {},
   "outputs": [],
   "source": [
    "from lib2.DispersiveRamsey import *\n",
    "DR = DispersiveRamsey(\"ramsey\", \"lol\", \n",
    "                      vna=[vna], q_lo=[q_lo], q_awg=[q_awg], ro_awg=[ro_awg])\n",
    "vna_parameters= {\"bandwidth\":10, \"freq_limits\":[6e9]*2, \"nop\":10, \"averages\":1}\n",
    "ramsey_delays = linspace(0, 10000, 201)\n",
    "q_freq = 5e9\n",
    "exc_frequency = q_freq - 1e6\n",
    "pulse_sequence_parameters = {\"awg_trigger_reaction_delay\":0, \"readout_duration\":3000, \n",
    "                                \"repetition_period\":15000, \"half_pi_pulse_duration\":100/2}\n",
    "\n",
    "ro_awg_params =  {\"calibration\":MagicMock()}\n",
    "q_awg_params = {\"calibration\":MagicMock()}\n",
    "q_lo_params = {'power':-10, 'frequency':exc_frequency + 100e6}\n",
    "dev_params = {'vna':[vna_parameters], \n",
    "              'ro_awg':[ro_awg_params], \n",
    "              'q_awg':[q_awg_params],\n",
    "              'q_lo':[q_lo_params]}\n",
    "\n",
    "DR.set_fixed_parameters(pulse_sequence_parameters, **dev_params)\n",
    "DR.set_swept_parameters(ramsey_delays)\n",
    "DR.set_basis((1 + 1j,-1 - 1j))\n",
    "# DR.set_ult_calib(True)"
   ]
  },
  {
   "cell_type": "code",
   "execution_count": 3,
   "metadata": {},
   "outputs": [
    {
     "name": "stdout",
     "output_type": "stream",
     "text": [
      "Started at:  2018-11-21 16:53:19.454638\n",
      "Time left: 0 h 0 m 21.47 s, [ramsey_delay: 5.50e+02], average cycle time: 0.11 s       "
     ]
    },
    {
     "name": "stderr",
     "output_type": "stream",
     "text": [
      "C:\\Users\\pogor\\AppData\\Local\\Continuum\\anaconda3\\lib\\site-packages\\scipy\\optimize\\minpack.py:794: OptimizeWarning: Covariance of the parameters could not be estimated\n",
      "  category=OptimizeWarning)\n"
     ]
    },
    {
     "name": "stdout",
     "output_type": "stream",
     "text": [
      "Time left: 0 h 0 m 0.0 s, [ramsey_delay: 1.00e+04], average cycle time: 0.11 s       \n",
      "Elapsed time: 0 h 0 m 21.41 s\n"
     ]
    }
   ],
   "source": [
    "dr_result = DR.launch()"
   ]
  },
  {
   "cell_type": "markdown",
   "metadata": {},
   "source": [
    "# TTS"
   ]
  },
  {
   "cell_type": "code",
   "execution_count": 2,
   "metadata": {},
   "outputs": [
    {
     "name": "stdout",
     "output_type": "stream",
     "text": [
      "Detecting a resonator within provided frequency range of the VNA [4000000000.0, 6000000000.0]                             at 0.00 mA\n",
      "Detected frequency is 5.90000 GHz, at 0.00 mU and 0.00 degrees\n"
     ]
    }
   ],
   "source": [
    "from lib2.TwoToneSpectroscopy import *\n",
    "TTS = FluxTwoToneSpectroscopy('TTS', 'lol', \n",
    "                              vna =[vna], mw_src=[mw_src], current_src=[cur_src])\n",
    "TTS._resonator_detector = RD\n",
    "res_limits = [4e9, 6e9]\n",
    "vna_parameters = {\"bandwidth\":250, \"freq_limits\":res_limits, \"nop\":10, \"power\":-15, \"averages\":1}\n",
    "mw_src_parameters = {\"power\":0}\n",
    "mw_src_frequencies = linspace(8.5e9, 9.2e9, 51)\n",
    "center = 0\n",
    "sweet_spot = 0\n",
    "period = 1\n",
    "currents = linspace(sweet_spot - period/8, sweet_spot + period/8, 51) # comment out to use fluxes from STS\n",
    "#voltages = linspace(0, 0.9, 51) # comment out to use voltages from STS\n",
    "#sweet_spot_current = None\n",
    "dev_params = {'vna': [vna_parameters],\n",
    "              'mw_src': [mw_src_parameters]}\n",
    "TTS.set_fixed_parameters(sweet_spot_current=mean(currents), adaptive=False, **dev_params)\n",
    "#TTS.set_swept_parameters(mw_src_frequencies, voltage_values = voltages)\n",
    "TTS.set_swept_parameters(mw_src_frequencies, current_values = currents)\n",
    "TTS._measurement_result._unwrap_phase = True"
   ]
  },
  {
   "cell_type": "code",
   "execution_count": null,
   "metadata": {},
   "outputs": [
    {
     "name": "stdout",
     "output_type": "stream",
     "text": [
      "Started at:  2018-11-19 12:28:55.079793\n",
      "Time left: 0 h 7 m 7.56 s, [Current [A]: -8.00e-02, Frequency [Hz]: 8.81e+09], average cycle time: 0.2 s       "
     ]
    }
   ],
   "source": [
    "tts_result = TTS.launch()"
   ]
  },
  {
   "cell_type": "markdown",
   "metadata": {},
   "source": [
    "# STS"
   ]
  },
  {
   "cell_type": "code",
   "execution_count": 2,
   "metadata": {},
   "outputs": [
    {
     "name": "stdout",
     "output_type": "stream",
     "text": [
      "Started at:  2018-11-26 18:30:35.102341\n",
      "Time left: 0 h 0 m 2.29 s, [Current [A]: 4.20e-05], average cycle time: 0.1 s       "
     ]
    }
   ],
   "source": [
    "from lib2.SingleToneSpectroscopy import *\n",
    "currents = linspace(-.75e-4, .75e-4, 101)\n",
    "voltages = linspace(-.75,1, 101)\n",
    "res_limits = [4e9, 6e9]\n",
    "\n",
    "STS = SingleToneSpectroscopy('STS', 'lol', plot_update_interval = 1, vna = [vna], src = [cur_src])\n",
    "vna_parameters = {\"bandwidth\":500, \"freq_limits\":res_limits, \"nop\":101, \"power\":-20, \"averages\":1}\n",
    "dev_params = {'vna': [vna_parameters]}\n",
    "\n",
    "STS.set_fixed_parameters(**dev_params)\n",
    "STS._src[0].set_current(currents[0])\n",
    "sleep(1)\n",
    "STS.set_swept_parameters({'Current [A]': (STS._src[0].set_current, currents)})\n",
    "# STS.set_swept_parameters({'AWG voltage [V]': (voltage_awg.set_voltage, voltages)})\n",
    "\n",
    "sts_result = STS.launch()"
   ]
  },
  {
   "cell_type": "code",
   "execution_count": 3,
   "metadata": {},
   "outputs": [
    {
     "name": "stdout",
     "output_type": "stream",
     "text": [
      "Measurement was interrupted! \n",
      "\n",
      "Time left: 0 h 0 m 2.18 s, [Current [A]: 4.35e-05], average cycle time: 0.1 s       "
     ]
    }
   ],
   "source": [
    "STS.stop()"
   ]
  },
  {
   "cell_type": "code",
   "execution_count": 5,
   "metadata": {},
   "outputs": [
    {
     "data": {
      "text/plain": [
       "(<Figure size 1500x700 with 4 Axes>,\n",
       " array([<matplotlib.axes._subplots.AxesSubplot object at 0x00000239EC0D05F8>,\n",
       "        <matplotlib.axes._subplots.AxesSubplot object at 0x0000023980105D30>],\n",
       "       dtype=object),\n",
       " (<matplotlib.axes._axes.Axes at 0x23980134358>,\n",
       "  <matplotlib.axes._axes.Axes at 0x23980598f28>))"
      ]
     },
     "execution_count": 5,
     "metadata": {},
     "output_type": "execute_result"
    }
   ],
   "source": [
    "sts_result.visualize()"
   ]
  },
  {
   "cell_type": "code",
   "execution_count": 15,
   "metadata": {},
   "outputs": [],
   "source": [
    "from lib2.DispersiveRabiOscillations import *\n",
    "\n",
    "DRO = DispersiveRabiOscillations(\"rabi\", \"lol\", plot_update_interval=0.5,\n",
    "            vna=[vna], q_lo=[q_lo], q_awg=[q_awg], ro_awg=[ro_awg])\n",
    "vna_parameters = {\"bandwidth\":10, \"freq_limits\":[5e9]*2, \"nop\":10, \"averages\":1}\n",
    "exc_frequency = 6e9\n",
    "excitation_durations = linspace(0, 2000, 201)\n",
    "\n",
    "rabi_sequence_parameters = pulse_sequence_parameters= {\"awg_trigger_reaction_delay\":0, \"excitation_amplitude\":1,\n",
    "                                                \"readout_duration\":3000, \"repetition_period\":15000}\n",
    "ro_awg_params =  {\"calibration\":MagicMock()}\n",
    "q_awg_params = {\"calibration\":MagicMock()}\n",
    "q_lo_params = {'power':-10, 'frequency':exc_frequency + 100e6}\n",
    "dev_params = {'vna':[vna_parameters], \n",
    "              'ro_awg':[ro_awg_params], \n",
    "              'q_awg':[q_awg_params],\n",
    "              'q_lo':[q_lo_params]}\n",
    "DRO.set_fixed_parameters(rabi_sequence_parameters, **dev_params)\n",
    "DRO.set_swept_parameters(excitation_durations)\n",
    "#DRO.set_basis(basis)\n",
    "DRO.set_ult_calib(False)"
   ]
  },
  {
   "cell_type": "code",
   "execution_count": 16,
   "metadata": {},
   "outputs": [
    {
     "name": "stdout",
     "output_type": "stream",
     "text": [
      "Started at:  2018-11-20 17:46:46.153761\n",
      "Time left: 0 h 0 m 39.97 s, [excitation_duration: 6.00e+01], average cycle time: 0.21 s       "
     ]
    },
    {
     "name": "stderr",
     "output_type": "stream",
     "text": [
      "C:\\Users\\pogor\\AppData\\Local\\Continuum\\anaconda3\\lib\\site-packages\\scipy\\optimize\\minpack.py:794: OptimizeWarning: Covariance of the parameters could not be estimated\n",
      "  category=OptimizeWarning)\n"
     ]
    },
    {
     "name": "stdout",
     "output_type": "stream",
     "text": [
      "Time left: 0 h 0 m 0.0 s, [excitation_duration: 2.00e+03], average cycle time: 0.21 s       \n",
      "Elapsed time: 0 h 0 m 41.53 s\n"
     ]
    }
   ],
   "source": [
    "result = DRO.launch()"
   ]
  },
  {
   "cell_type": "code",
   "execution_count": 18,
   "metadata": {},
   "outputs": [],
   "source": [
    "basis = result.get_basis()"
   ]
  },
  {
   "cell_type": "markdown",
   "metadata": {},
   "source": [
    "# Joint Rabi"
   ]
  },
  {
   "cell_type": "code",
   "execution_count": 2,
   "metadata": {},
   "outputs": [],
   "source": [
    "from lib2.DispersiveRabiOscillationsJoint import *\n",
    "\n",
    "DROJ = DispersiveRabiOscillationsJoint(\"rabi\", \"lol\",\n",
    "            vna=[vna], q_lo=[q_lo, q_lo_2], q_awg=[q_awg, q_awg_2], ro_awg=[ro_awg], plot_update_interval=0.5, easy_fit=True)\n",
    "vna_parameters = {\"bandwidth\":10, \"freq_limits\":[5e9]*2, \"nop\":10, \"averages\":1}\n",
    "exc_frequency = 6e9\n",
    "excitation_durations = linspace(0, 2000, 201)\n",
    "\n",
    "rabi_sequence_parameters = pulse_sequence_parameters= {\"awg_trigger_reaction_delay\":0, \"excitation_amplitude\":1,\n",
    "                                                \"readout_duration\":3000, \"repetition_period\":15000}\n",
    "ro_awg_params =  {\"calibration\":MagicMock()}\n",
    "q_awg_params = {\"calibration\":MagicMock()}\n",
    "q_lo_params = {'power':-10, 'frequency':exc_frequency + 100e6}\n",
    "dev_params = {'vna':[vna_parameters], \n",
    "              'ro_awg':[ro_awg_params], \n",
    "              'q_awg':[q_awg_params, q_awg_params],\n",
    "              'q_lo':[q_lo_params, q_lo_params]}\n",
    "DROJ.set_fixed_parameters(rabi_sequence_parameters, **dev_params)\n",
    "DROJ.set_swept_parameters(excitation_durations)\n",
    "#DRO.set_basis(basis)\n",
    "DROJ.set_ult_calib(False)"
   ]
  },
  {
   "cell_type": "code",
   "execution_count": 4,
   "metadata": {},
   "outputs": [
    {
     "data": {
      "text/plain": [
       "((-7.584621733423947e-09+3.4596915328470114e-09j),\n",
       " (0.5000586655083248+0.5000598562870332j),\n",
       " (0.49994139917905517+0.4999402040342642j),\n",
       " (-9.304001906805738e-11+3.943796090626318e-09j))"
      ]
     },
     "execution_count": 4,
     "metadata": {},
     "output_type": "execute_result"
    }
   ],
   "source": [
    "droj_result.get_betas()"
   ]
  },
  {
   "cell_type": "code",
   "execution_count": null,
   "metadata": {},
   "outputs": [],
   "source": [
    "DROJ.stop()"
   ]
  },
  {
   "cell_type": "code",
   "execution_count": 5,
   "metadata": {},
   "outputs": [
    {
     "data": {
      "text/plain": [
       "(<Figure size 1500x700 with 2 Axes>,\n",
       " array([<matplotlib.axes._subplots.AxesSubplot object at 0x000002BC61E36668>,\n",
       "        <matplotlib.axes._subplots.AxesSubplot object at 0x000002BC61E4FBA8>],\n",
       "       dtype=object),\n",
       " (None, None))"
      ]
     },
     "execution_count": 5,
     "metadata": {},
     "output_type": "execute_result"
    },
    {
     "name": "stderr",
     "output_type": "stream",
     "text": [
      "Traceback (most recent call last):\n",
      "  File \"C:\\Users\\Ultmessia\\Anaconda3\\lib\\site-packages\\matplotlib\\mathtext.py\", line 2515, in parse\n",
      "    result = self._expression.parseString(s)\n",
      "  File \"C:\\Users\\Ultmessia\\Anaconda3\\lib\\site-packages\\pyparsing.py\", line 1632, in parseString\n",
      "    raise exc\n",
      "  File \"C:\\Users\\Ultmessia\\Anaconda3\\lib\\site-packages\\pyparsing.py\", line 1622, in parseString\n",
      "    loc, tokens = self._parse( instring, 0 )\n",
      "  File \"C:\\Users\\Ultmessia\\Anaconda3\\lib\\site-packages\\pyparsing.py\", line 1529, in _parseCache\n",
      "    value = self._parseNoCache(instring, loc, doActions, callPreParse)\n",
      "  File \"C:\\Users\\Ultmessia\\Anaconda3\\lib\\site-packages\\pyparsing.py\", line 1379, in _parseNoCache\n",
      "    loc,tokens = self.parseImpl( instring, preloc, doActions )\n",
      "  File \"C:\\Users\\Ultmessia\\Anaconda3\\lib\\site-packages\\pyparsing.py\", line 3717, in parseImpl\n",
      "    return self.expr._parse( instring, loc, doActions, callPreParse=False )\n",
      "  File \"C:\\Users\\Ultmessia\\Anaconda3\\lib\\site-packages\\pyparsing.py\", line 1529, in _parseCache\n",
      "    value = self._parseNoCache(instring, loc, doActions, callPreParse)\n",
      "  File \"C:\\Users\\Ultmessia\\Anaconda3\\lib\\site-packages\\pyparsing.py\", line 1379, in _parseNoCache\n",
      "    loc,tokens = self.parseImpl( instring, preloc, doActions )\n",
      "  File \"C:\\Users\\Ultmessia\\Anaconda3\\lib\\site-packages\\pyparsing.py\", line 3395, in parseImpl\n",
      "    loc, exprtokens = e._parse( instring, loc, doActions )\n",
      "  File \"C:\\Users\\Ultmessia\\Anaconda3\\lib\\site-packages\\pyparsing.py\", line 1529, in _parseCache\n",
      "    value = self._parseNoCache(instring, loc, doActions, callPreParse)\n",
      "  File \"C:\\Users\\Ultmessia\\Anaconda3\\lib\\site-packages\\pyparsing.py\", line 1383, in _parseNoCache\n",
      "    loc,tokens = self.parseImpl( instring, preloc, doActions )\n",
      "  File \"C:\\Users\\Ultmessia\\Anaconda3\\lib\\site-packages\\pyparsing.py\", line 3183, in parseImpl\n",
      "    raise ParseException(instring, loc, self.errmsg, self)\n",
      "pyparsing.ParseException: Expected end of text (at char 0), (line:1, col:1)\n",
      "\n",
      "During handling of the above exception, another exception occurred:\n",
      "\n",
      "Traceback (most recent call last):\n",
      "  File \"C:\\Users\\Ultmessia\\Anaconda3\\lib\\site-packages\\matplotlib\\backends\\backend_qt5.py\", line 519, in _draw_idle\n",
      "    self.draw()\n",
      "  File \"C:\\Users\\Ultmessia\\Anaconda3\\lib\\site-packages\\matplotlib\\backends\\backend_agg.py\", line 437, in draw\n",
      "    self.figure.draw(self.renderer)\n",
      "  File \"C:\\Users\\Ultmessia\\Anaconda3\\lib\\site-packages\\matplotlib\\artist.py\", line 55, in draw_wrapper\n",
      "    return draw(artist, renderer, *args, **kwargs)\n",
      "  File \"C:\\Users\\Ultmessia\\Anaconda3\\lib\\site-packages\\matplotlib\\figure.py\", line 1493, in draw\n",
      "    renderer, self, artists, self.suppressComposite)\n",
      "  File \"C:\\Users\\Ultmessia\\Anaconda3\\lib\\site-packages\\matplotlib\\image.py\", line 141, in _draw_list_compositing_images\n",
      "    a.draw(renderer)\n",
      "  File \"C:\\Users\\Ultmessia\\Anaconda3\\lib\\site-packages\\matplotlib\\artist.py\", line 55, in draw_wrapper\n",
      "    return draw(artist, renderer, *args, **kwargs)\n",
      "  File \"C:\\Users\\Ultmessia\\Anaconda3\\lib\\site-packages\\matplotlib\\axes\\_base.py\", line 2635, in draw\n",
      "    mimage._draw_list_compositing_images(renderer, self, artists)\n",
      "  File \"C:\\Users\\Ultmessia\\Anaconda3\\lib\\site-packages\\matplotlib\\image.py\", line 141, in _draw_list_compositing_images\n",
      "    a.draw(renderer)\n",
      "  File \"C:\\Users\\Ultmessia\\Anaconda3\\lib\\site-packages\\matplotlib\\artist.py\", line 55, in draw_wrapper\n",
      "    return draw(artist, renderer, *args, **kwargs)\n",
      "  File \"C:\\Users\\Ultmessia\\Anaconda3\\lib\\site-packages\\matplotlib\\text.py\", line 2292, in draw\n",
      "    self.update_bbox_position_size(renderer)\n",
      "  File \"C:\\Users\\Ultmessia\\Anaconda3\\lib\\site-packages\\matplotlib\\text.py\", line 499, in update_bbox_position_size\n",
      "    x_box, y_box, w_box, h_box = _get_textbox(self, renderer)\n",
      "  File \"C:\\Users\\Ultmessia\\Anaconda3\\lib\\site-packages\\matplotlib\\text.py\", line 97, in _get_textbox\n",
      "    _, parts, d = text._get_layout(renderer)\n",
      "  File \"C:\\Users\\Ultmessia\\Anaconda3\\lib\\site-packages\\matplotlib\\text.py\", line 309, in _get_layout\n",
      "    ismath=ismath)\n",
      "  File \"C:\\Users\\Ultmessia\\Anaconda3\\lib\\site-packages\\matplotlib\\backends\\backend_agg.py\", line 241, in get_text_width_height_descent\n",
      "    self.mathtext_parser.parse(s, self.dpi, prop)\n",
      "  File \"C:\\Users\\Ultmessia\\Anaconda3\\lib\\site-packages\\matplotlib\\mathtext.py\", line 3293, in parse\n",
      "    box = self._parser.parse(s, font_output, fontsize, dpi)\n",
      "  File \"C:\\Users\\Ultmessia\\Anaconda3\\lib\\site-packages\\matplotlib\\mathtext.py\", line 2521, in parse\n",
      "    six.text_type(err)]))\n",
      "ValueError: \n",
      "eta_{II} = 0.00 + -0.00 i$\n",
      "^\n",
      "Expected end of text (at char 0), (line:1, col:1)\n",
      "Traceback (most recent call last):\n",
      "  File \"C:\\Users\\Ultmessia\\Anaconda3\\lib\\site-packages\\matplotlib\\mathtext.py\", line 2515, in parse\n",
      "    result = self._expression.parseString(s)\n",
      "  File \"C:\\Users\\Ultmessia\\Anaconda3\\lib\\site-packages\\pyparsing.py\", line 1632, in parseString\n",
      "    raise exc\n",
      "  File \"C:\\Users\\Ultmessia\\Anaconda3\\lib\\site-packages\\pyparsing.py\", line 1622, in parseString\n",
      "    loc, tokens = self._parse( instring, 0 )\n",
      "  File \"C:\\Users\\Ultmessia\\Anaconda3\\lib\\site-packages\\pyparsing.py\", line 1529, in _parseCache\n",
      "    value = self._parseNoCache(instring, loc, doActions, callPreParse)\n",
      "  File \"C:\\Users\\Ultmessia\\Anaconda3\\lib\\site-packages\\pyparsing.py\", line 1379, in _parseNoCache\n",
      "    loc,tokens = self.parseImpl( instring, preloc, doActions )\n",
      "  File \"C:\\Users\\Ultmessia\\Anaconda3\\lib\\site-packages\\pyparsing.py\", line 3717, in parseImpl\n",
      "    return self.expr._parse( instring, loc, doActions, callPreParse=False )\n",
      "  File \"C:\\Users\\Ultmessia\\Anaconda3\\lib\\site-packages\\pyparsing.py\", line 1529, in _parseCache\n",
      "    value = self._parseNoCache(instring, loc, doActions, callPreParse)\n",
      "  File \"C:\\Users\\Ultmessia\\Anaconda3\\lib\\site-packages\\pyparsing.py\", line 1379, in _parseNoCache\n",
      "    loc,tokens = self.parseImpl( instring, preloc, doActions )\n",
      "  File \"C:\\Users\\Ultmessia\\Anaconda3\\lib\\site-packages\\pyparsing.py\", line 3395, in parseImpl\n",
      "    loc, exprtokens = e._parse( instring, loc, doActions )\n",
      "  File \"C:\\Users\\Ultmessia\\Anaconda3\\lib\\site-packages\\pyparsing.py\", line 1529, in _parseCache\n",
      "    value = self._parseNoCache(instring, loc, doActions, callPreParse)\n",
      "  File \"C:\\Users\\Ultmessia\\Anaconda3\\lib\\site-packages\\pyparsing.py\", line 1383, in _parseNoCache\n",
      "    loc,tokens = self.parseImpl( instring, preloc, doActions )\n",
      "  File \"C:\\Users\\Ultmessia\\Anaconda3\\lib\\site-packages\\pyparsing.py\", line 3183, in parseImpl\n",
      "    raise ParseException(instring, loc, self.errmsg, self)\n",
      "pyparsing.ParseException: Expected end of text (at char 0), (line:1, col:1)\n",
      "\n",
      "During handling of the above exception, another exception occurred:\n",
      "\n",
      "Traceback (most recent call last):\n",
      "  File \"C:\\Users\\Ultmessia\\Anaconda3\\lib\\site-packages\\matplotlib\\backends\\backend_qt5.py\", line 519, in _draw_idle\n",
      "    self.draw()\n",
      "  File \"C:\\Users\\Ultmessia\\Anaconda3\\lib\\site-packages\\matplotlib\\backends\\backend_agg.py\", line 437, in draw\n",
      "    self.figure.draw(self.renderer)\n",
      "  File \"C:\\Users\\Ultmessia\\Anaconda3\\lib\\site-packages\\matplotlib\\artist.py\", line 55, in draw_wrapper\n",
      "    return draw(artist, renderer, *args, **kwargs)\n",
      "  File \"C:\\Users\\Ultmessia\\Anaconda3\\lib\\site-packages\\matplotlib\\figure.py\", line 1493, in draw\n",
      "    renderer, self, artists, self.suppressComposite)\n",
      "  File \"C:\\Users\\Ultmessia\\Anaconda3\\lib\\site-packages\\matplotlib\\image.py\", line 141, in _draw_list_compositing_images\n",
      "    a.draw(renderer)\n",
      "  File \"C:\\Users\\Ultmessia\\Anaconda3\\lib\\site-packages\\matplotlib\\artist.py\", line 55, in draw_wrapper\n",
      "    return draw(artist, renderer, *args, **kwargs)\n",
      "  File \"C:\\Users\\Ultmessia\\Anaconda3\\lib\\site-packages\\matplotlib\\axes\\_base.py\", line 2635, in draw\n",
      "    mimage._draw_list_compositing_images(renderer, self, artists)\n",
      "  File \"C:\\Users\\Ultmessia\\Anaconda3\\lib\\site-packages\\matplotlib\\image.py\", line 141, in _draw_list_compositing_images\n",
      "    a.draw(renderer)\n",
      "  File \"C:\\Users\\Ultmessia\\Anaconda3\\lib\\site-packages\\matplotlib\\artist.py\", line 55, in draw_wrapper\n",
      "    return draw(artist, renderer, *args, **kwargs)\n",
      "  File \"C:\\Users\\Ultmessia\\Anaconda3\\lib\\site-packages\\matplotlib\\text.py\", line 2292, in draw\n",
      "    self.update_bbox_position_size(renderer)\n",
      "  File \"C:\\Users\\Ultmessia\\Anaconda3\\lib\\site-packages\\matplotlib\\text.py\", line 499, in update_bbox_position_size\n",
      "    x_box, y_box, w_box, h_box = _get_textbox(self, renderer)\n",
      "  File \"C:\\Users\\Ultmessia\\Anaconda3\\lib\\site-packages\\matplotlib\\text.py\", line 97, in _get_textbox\n",
      "    _, parts, d = text._get_layout(renderer)\n",
      "  File \"C:\\Users\\Ultmessia\\Anaconda3\\lib\\site-packages\\matplotlib\\text.py\", line 309, in _get_layout\n",
      "    ismath=ismath)\n",
      "  File \"C:\\Users\\Ultmessia\\Anaconda3\\lib\\site-packages\\matplotlib\\backends\\backend_agg.py\", line 241, in get_text_width_height_descent\n",
      "    self.mathtext_parser.parse(s, self.dpi, prop)\n",
      "  File \"C:\\Users\\Ultmessia\\Anaconda3\\lib\\site-packages\\matplotlib\\mathtext.py\", line 3293, in parse\n",
      "    box = self._parser.parse(s, font_output, fontsize, dpi)\n",
      "  File \"C:\\Users\\Ultmessia\\Anaconda3\\lib\\site-packages\\matplotlib\\mathtext.py\", line 2521, in parse\n",
      "    six.text_type(err)]))\n",
      "ValueError: \n",
      "eta_{II} = 0.00 + -0.00 i$\n",
      "^\n",
      "Expected end of text (at char 0), (line:1, col:1)\n"
     ]
    }
   ],
   "source": [
    "droj_result.visualize()"
   ]
  },
  {
   "cell_type": "code",
   "execution_count": 3,
   "metadata": {},
   "outputs": [
    {
     "name": "stdout",
     "output_type": "stream",
     "text": [
      "Started at:  2018-12-10 15:52:28.775716\n",
      "Time left: 0 h 0 m 37.53 s, [excitation_duration: 2.50e+02], average cycle time: 0.21 s       Fit failed unexpectedly: Singular matrix\n",
      "[0.04946950299855734, 0.04946950299855734, 0.04946950299855734, 0.04946950299855734, 0.04946950299855734, 0.04946950299855734, 0.04946950299855734, 0.04946950299855734, 0.7390481805386263, 0.7390481805386263, 46.435766692581026, 0.7390481805386263, 0.7390481805386263, 46.435766692581026] ([-0.09893900599711468, -0.09893900599711468, -0.09893900599711468, -0.09893900599711468, -0.09893900599711468, -0.09893900599711468, -0.09893900599711468, -0.09893900599711468, 1e-07, 1e-07, 6.283185307179586e-06, 1e-07, 1e-07, 6.283185307179586e-06], [0.09893900599711468, 0.09893900599711468, 0.09893900599711468, 0.09893900599711468, 0.09893900599711468, 0.09893900599711468, 0.09893900599711468, 0.09893900599711468, 1.0, 1.0, 62.83185307179586, 1.0, 1.0, 62.83185307179586])\n",
      "Fit failed unexpectedly: Singular matrix\n"
     ]
    },
    {
     "name": "stderr",
     "output_type": "stream",
     "text": [
      "C:\\Users\\pogor\\YandexDisk\\Ustinov internship\\Measurement-automation\\lib2\\DispersiveRabiOscillationsJoint.py:45: RuntimeWarning: invalid value encountered in sqrt\n",
      "  omega_r_2 = sqrt(omega_r ** 2 - (1 / tau_r) ** 2)\n"
     ]
    },
    {
     "name": "stdout",
     "output_type": "stream",
     "text": [
      "Time left: 0 h 0 m 36.97 s, [excitation_duration: 2.90e+02], average cycle time: 0.22 s       Fit failed unexpectedly: Singular matrix\n",
      "[-3.81999541e-06 -3.81999536e-06  5.00471419e-01  5.00470544e-01\n",
      "  4.99529281e-01  4.99538745e-01 -3.76352622e-07 -1.95874487e-06\n",
      "  7.68426472e-06  7.68426472e-06  1.00116682e+01  1.06114991e-05\n",
      "  1.06114991e-05  9.98827288e+00] ([-1.8768887533689473, -1.8768887533689473, -1.8768887533689473, -1.8768887533689473, -1.8768887533689473, -1.8768887533689473, -1.8768887533689473, -1.8768887533689473, 1e-07, 1e-07, 6.283185307179586e-06, 1e-07, 1e-07, 6.283185307179586e-06], [1.8768887533689473, 1.8768887533689473, 1.8768887533689473, 1.8768887533689473, 1.8768887533689473, 1.8768887533689473, 1.8768887533689473, 1.8768887533689473, 1.0, 1.0, 62.83185307179586, 1.0, 1.0, 62.83185307179586])\n",
      "Fit failed unexpectedly: Singular matrix\n",
      "Time left: 0 h 0 m 36.5 s, [excitation_duration: 3.10e+02], average cycle time: 0.22 s       Fit failed unexpectedly: Singular matrix\n",
      "[ 6.96891203e-02  6.96891202e-02 -3.63658384e-03 -3.64551711e-03\n",
      " -1.80624297e-02 -1.23265240e-02  9.78874708e-01  9.74718642e-01\n",
      "  1.00045041e-07  1.00045041e-07  5.17455494e+01  1.00342794e-07\n",
      "  1.00342794e-07  6.28318531e+01] ([-2.009992496600445, -2.009992496600445, -2.009992496600445, -2.009992496600445, -2.009992496600445, -2.009992496600445, -2.009992496600445, -2.009992496600445, 1e-07, 1e-07, 6.283185307179586e-06, 1e-07, 1e-07, 6.283185307179586e-06], [2.009992496600445, 2.009992496600445, 2.009992496600445, 2.009992496600445, 2.009992496600445, 2.009992496600445, 2.009992496600445, 2.009992496600445, 1.0, 1.0, 62.83185307179586, 1.0, 1.0, 62.83185307179586])\n",
      "Fit failed unexpectedly: Singular matrix\n",
      "Time left: 0 h 0 m 35.76 s, [excitation_duration: 3.40e+02], average cycle time: 0.22 s       Fit failed unexpectedly: Singular matrix\n",
      "[-7.02122040e-06 -7.02122072e-06  4.98656599e-01  4.98654972e-01\n",
      "  5.01355710e-01  5.01353517e-01 -2.53078866e-06 -4.10487812e-06\n",
      "  5.53847323e-05  5.53847323e-05  9.98929706e+00  4.04813247e-05\n",
      "  4.04813247e-05  1.00106165e+01] ([-2.0191351502732795, -2.0191351502732795, -2.0191351502732795, -2.0191351502732795, -2.0191351502732795, -2.0191351502732795, -2.0191351502732795, -2.0191351502732795, 1e-07, 1e-07, 6.283185307179586e-06, 1e-07, 1e-07, 6.283185307179586e-06], [2.0191351502732795, 2.0191351502732795, 2.0191351502732795, 2.0191351502732795, 2.0191351502732795, 2.0191351502732795, 2.0191351502732795, 2.0191351502732795, 1.0, 1.0, 62.83185307179586, 1.0, 1.0, 62.83185307179586])\n",
      "Fit failed unexpectedly: Singular matrix\n",
      "Time left: 0 h 0 m 31.71 s, [excitation_duration: 5.40e+02], average cycle time: 0.22 s       Fit failed unexpectedly: Singular matrix\n",
      "[1.0095675751366397, 1.0095675751366397, 1.0095675751366397, 1.0095675751366397, 1.0095675751366397, 1.0095675751366397, 1.0095675751366397, 1.0095675751366397, 0.3954765432593807, 0.3954765432593807, 24.84852405941513, 0.3954765432593807, 0.3954765432593807, 24.84852405941513] ([-2.0191351502732795, -2.0191351502732795, -2.0191351502732795, -2.0191351502732795, -2.0191351502732795, -2.0191351502732795, -2.0191351502732795, -2.0191351502732795, 1e-07, 1e-07, 6.283185307179586e-06, 1e-07, 1e-07, 6.283185307179586e-06], [2.0191351502732795, 2.0191351502732795, 2.0191351502732795, 2.0191351502732795, 2.0191351502732795, 2.0191351502732795, 2.0191351502732795, 2.0191351502732795, 1.0, 1.0, 62.83185307179586, 1.0, 1.0, 62.83185307179586])\n",
      "Fit failed unexpectedly: Singular matrix\n",
      "Time left: 0 h 0 m 30.59 s, [excitation_duration: 5.90e+02], average cycle time: 0.22 s       Fit failed unexpectedly: Singular matrix\n",
      "[ 6.66081259e-10  6.66268646e-10 -1.47723012e-06  6.22074723e-07\n",
      "  1.00000055e+00  1.00000031e+00  6.06599935e-07 -6.06147758e-07\n",
      "  2.53116778e-01  2.53116778e-01  1.00014819e+01  1.00000977e-07\n",
      "  1.00000983e-07  1.00000000e+01] ([-2.0191351502732795, -2.0191351502732795, -2.0191351502732795, -2.0191351502732795, -2.0191351502732795, -2.0191351502732795, -2.0191351502732795, -2.0191351502732795, 1e-07, 1e-07, 6.283185307179586e-06, 1e-07, 1e-07, 6.283185307179586e-06], [2.0191351502732795, 2.0191351502732795, 2.0191351502732795, 2.0191351502732795, 2.0191351502732795, 2.0191351502732795, 2.0191351502732795, 2.0191351502732795, 1.0, 1.0, 62.83185307179586, 1.0, 1.0, 62.83185307179586])\n",
      "Fit failed unexpectedly: Singular matrix\n",
      "Time left: 0 h 0 m 29.88 s, [excitation_duration: 6.20e+02], average cycle time: 0.22 s       Fit failed unexpectedly: Singular matrix\n",
      "[-3.87567425e-02 -3.87567425e-02 -1.86059960e-02 -1.86252707e-02\n",
      " -4.56558066e-02 -4.56560787e-02  1.06402956e+00  1.06402557e+00\n",
      "  2.53173230e-01  2.53173230e-01  3.72550453e+01  1.91890563e-06\n",
      "  1.91890563e-06  2.69736134e+01] ([-2.0191351502732795, -2.0191351502732795, -2.0191351502732795, -2.0191351502732795, -2.0191351502732795, -2.0191351502732795, -2.0191351502732795, -2.0191351502732795, 1e-07, 1e-07, 6.283185307179586e-06, 1e-07, 1e-07, 6.283185307179586e-06], [2.0191351502732795, 2.0191351502732795, 2.0191351502732795, 2.0191351502732795, 2.0191351502732795, 2.0191351502732795, 2.0191351502732795, 2.0191351502732795, 1.0, 1.0, 62.83185307179586, 1.0, 1.0, 62.83185307179586])\n",
      "Fit failed unexpectedly: Singular matrix\n",
      "Time left: 0 h 0 m 29.65 s, [excitation_duration: 6.30e+02], average cycle time: 0.22 s       Fit failed unexpectedly: Singular matrix\n",
      "[-0.10578573 -0.10578572 -1.97438016 -1.97445177  2.01913506  2.01913506\n",
      "  0.34549969  0.34568425  1.          1.         40.63915115  1.\n",
      "  1.         40.9121026 ] ([-2.0191351502732795, -2.0191351502732795, -2.0191351502732795, -2.0191351502732795, -2.0191351502732795, -2.0191351502732795, -2.0191351502732795, -2.0191351502732795, 1e-07, 1e-07, 6.283185307179586e-06, 1e-07, 1e-07, 6.283185307179586e-06], [2.0191351502732795, 2.0191351502732795, 2.0191351502732795, 2.0191351502732795, 2.0191351502732795, 2.0191351502732795, 2.0191351502732795, 2.0191351502732795, 1.0, 1.0, 62.83185307179586, 1.0, 1.0, 62.83185307179586])\n",
      "Fit failed unexpectedly: Singular matrix\n",
      "Time left: 0 h 0 m 27.68 s, [excitation_duration: 7.20e+02], average cycle time: 0.22 s       Fit failed unexpectedly: Singular matrix\n",
      "[-8.60593026e-09 -8.60689596e-09  4.99338572e-01  4.99338504e-01\n",
      "  5.00661507e-01  5.00661480e-01  1.17776449e-08  3.03534827e-09\n",
      "  1.08161359e-07  1.08161359e-07  9.99998805e+00  1.07862156e-07\n",
      "  1.07862156e-07  1.00000120e+01] ([-2.0191351502732795, -2.0191351502732795, -2.0191351502732795, -2.0191351502732795, -2.0191351502732795, -2.0191351502732795, -2.0191351502732795, -2.0191351502732795, 1e-07, 1e-07, 6.283185307179586e-06, 1e-07, 1e-07, 6.283185307179586e-06], [2.0191351502732795, 2.0191351502732795, 2.0191351502732795, 2.0191351502732795, 2.0191351502732795, 2.0191351502732795, 2.0191351502732795, 2.0191351502732795, 1.0, 1.0, 62.83185307179586, 1.0, 1.0, 62.83185307179586])\n",
      "Fit failed unexpectedly: Singular matrix\n",
      "Time left: 0 h 0 m 26.57 s, [excitation_duration: 7.70e+02], average cycle time: 0.22 s       Fit failed unexpectedly: Singular matrix\n",
      "[ 1.59155032e-01  1.59155032e-01 -2.53429581e-02 -2.53427862e-02\n",
      "  1.05717293e-01  1.05717233e-01 -3.21116829e-01 -3.21116715e-01\n",
      "  7.62013880e-06  7.62013880e-06  2.31439715e+01  1.56702382e-06\n",
      "  1.56702382e-06  1.98833545e+01] ([-2.0191351502732795, -2.0191351502732795, -2.0191351502732795, -2.0191351502732795, -2.0191351502732795, -2.0191351502732795, -2.0191351502732795, -2.0191351502732795, 1e-07, 1e-07, 6.283185307179586e-06, 1e-07, 1e-07, 6.283185307179586e-06], [2.0191351502732795, 2.0191351502732795, 2.0191351502732795, 2.0191351502732795, 2.0191351502732795, 2.0191351502732795, 2.0191351502732795, 2.0191351502732795, 1.0, 1.0, 62.83185307179586, 1.0, 1.0, 62.83185307179586])\n",
      "Fit failed unexpectedly: Singular matrix\n",
      "Time left: 0 h 0 m 25.49 s, [excitation_duration: 8.20e+02], average cycle time: 0.22 s       Fit failed unexpectedly: Singular matrix\n",
      "[ 1.62777854e-01  1.62777854e-01 -6.00950885e-03 -6.00783784e-03\n",
      "  2.34753982e-02  2.34756755e-02 -3.22383964e-01 -3.22382895e-01\n",
      "  6.11969421e-06  6.11969421e-06  4.24151718e+01  3.36433888e-06\n",
      "  3.36433888e-06  3.89667373e+01] ([-2.0191351502732795, -2.0191351502732795, -2.0191351502732795, -2.0191351502732795, -2.0191351502732795, -2.0191351502732795, -2.0191351502732795, -2.0191351502732795, 1e-07, 1e-07, 6.283185307179586e-06, 1e-07, 1e-07, 6.283185307179586e-06], [2.0191351502732795, 2.0191351502732795, 2.0191351502732795, 2.0191351502732795, 2.0191351502732795, 2.0191351502732795, 2.0191351502732795, 2.0191351502732795, 1.0, 1.0, 62.83185307179586, 1.0, 1.0, 62.83185307179586])\n",
      "Fit failed unexpectedly: Singular matrix\n",
      "Time left: 0 h 0 m 24.2 s, [excitation_duration: 8.80e+02], average cycle time: 0.22 s       Fit failed unexpectedly: Singular matrix\n",
      "[ 1.47413841e-01  1.47413841e-01  1.69866909e-01  1.69867360e-01\n",
      " -2.09983681e-01 -2.09983607e-01 -2.26205132e-01 -2.26205389e-01\n",
      "  6.56085647e-05  6.56085647e-05  1.93269234e+01  1.00000000e-07\n",
      "  1.00000000e-07  1.62014316e+01] ([-2.0191351502732795, -2.0191351502732795, -2.0191351502732795, -2.0191351502732795, -2.0191351502732795, -2.0191351502732795, -2.0191351502732795, -2.0191351502732795, 1e-07, 1e-07, 6.283185307179586e-06, 1e-07, 1e-07, 6.283185307179586e-06], [2.0191351502732795, 2.0191351502732795, 2.0191351502732795, 2.0191351502732795, 2.0191351502732795, 2.0191351502732795, 2.0191351502732795, 2.0191351502732795, 1.0, 1.0, 62.83185307179586, 1.0, 1.0, 62.83185307179586])\n",
      "Fit failed unexpectedly: Singular matrix\n",
      "Time left: 0 h 0 m 23.78 s, [excitation_duration: 9.00e+02], average cycle time: 0.22 s       Fit failed unexpectedly: Singular matrix\n",
      "[-1.00000006e+00 -9.99999980e-01  1.50390780e-03  1.50356014e-03\n",
      " -1.50358865e-03 -1.50413727e-03  2.00000016e+00  2.00000016e+00\n",
      "  1.11234491e-07  1.11234491e-07  4.99997685e+00  1.10851952e-07\n",
      "  1.10851952e-07  5.00002312e+00] ([-2.0191351502732795, -2.0191351502732795, -2.0191351502732795, -2.0191351502732795, -2.0191351502732795, -2.0191351502732795, -2.0191351502732795, -2.0191351502732795, 1e-07, 1e-07, 6.283185307179586e-06, 1e-07, 1e-07, 6.283185307179586e-06], [2.0191351502732795, 2.0191351502732795, 2.0191351502732795, 2.0191351502732795, 2.0191351502732795, 2.0191351502732795, 2.0191351502732795, 2.0191351502732795, 1.0, 1.0, 62.83185307179586, 1.0, 1.0, 62.83185307179586])\n",
      "Fit failed unexpectedly: Singular matrix\n",
      "Time left: 0 h 0 m 23.35 s, [excitation_duration: 9.20e+02], average cycle time: 0.22 s       Fit failed unexpectedly: Singular matrix\n",
      "[ 1.08231547e-02  1.08231548e-02 -1.84824437e+00 -1.84799165e+00\n",
      "  2.01913515e+00  2.01913515e+00  1.41848530e-01  1.41895015e-01\n",
      "  6.95454752e-01  6.95454752e-01  4.35087170e+01  1.00000000e+00\n",
      "  1.00000000e+00  4.35451661e+01] ([-2.0191351502732795, -2.0191351502732795, -2.0191351502732795, -2.0191351502732795, -2.0191351502732795, -2.0191351502732795, -2.0191351502732795, -2.0191351502732795, 1e-07, 1e-07, 6.283185307179586e-06, 1e-07, 1e-07, 6.283185307179586e-06], [2.0191351502732795, 2.0191351502732795, 2.0191351502732795, 2.0191351502732795, 2.0191351502732795, 2.0191351502732795, 2.0191351502732795, 2.0191351502732795, 1.0, 1.0, 62.83185307179586, 1.0, 1.0, 62.83185307179586])\n",
      "Fit failed unexpectedly: Singular matrix\n",
      "Time left: 0 h 0 m 23.12 s, [excitation_duration: 9.30e+02], average cycle time: 0.22 s       Fit failed unexpectedly: Singular matrix\n",
      "[-3.75945437e-02 -3.75945437e-02 -1.98387062e+00 -1.98386682e+00\n",
      "  2.01912760e+00  2.01912760e+00  2.73080159e-01  2.69351483e-01\n",
      "  1.00000000e+00  1.00000000e+00  5.39225227e+01  1.00000000e+00\n",
      "  1.00000000e+00  5.38350105e+01] ([-2.0191351502732795, -2.0191351502732795, -2.0191351502732795, -2.0191351502732795, -2.0191351502732795, -2.0191351502732795, -2.0191351502732795, -2.0191351502732795, 1e-07, 1e-07, 6.283185307179586e-06, 1e-07, 1e-07, 6.283185307179586e-06], [2.0191351502732795, 2.0191351502732795, 2.0191351502732795, 2.0191351502732795, 2.0191351502732795, 2.0191351502732795, 2.0191351502732795, 2.0191351502732795, 1.0, 1.0, 62.83185307179586, 1.0, 1.0, 62.83185307179586])\n",
      "Fit failed unexpectedly: Singular matrix\n",
      "Time left: 0 h 0 m 22.9 s, [excitation_duration: 9.40e+02], average cycle time: 0.22 s       Fit failed unexpectedly: Singular matrix\n",
      "[-0.0541042  -0.0541042   2.01912762  2.01912754 -1.97882489 -1.97886614\n",
      "  0.30260104  0.30237664  1.          1.         39.88808816  1.\n",
      "  1.         40.01003172] ([-2.0191351502732795, -2.0191351502732795, -2.0191351502732795, -2.0191351502732795, -2.0191351502732795, -2.0191351502732795, -2.0191351502732795, -2.0191351502732795, 1e-07, 1e-07, 6.283185307179586e-06, 1e-07, 1e-07, 6.283185307179586e-06], [2.0191351502732795, 2.0191351502732795, 2.0191351502732795, 2.0191351502732795, 2.0191351502732795, 2.0191351502732795, 2.0191351502732795, 2.0191351502732795, 1.0, 1.0, 62.83185307179586, 1.0, 1.0, 62.83185307179586])\n",
      "Fit failed unexpectedly: Singular matrix\n",
      "Time left: 0 h 0 m 22.46 s, [excitation_duration: 9.60e+02], average cycle time: 0.22 s       "
     ]
    },
    {
     "name": "stderr",
     "output_type": "stream",
     "text": [
      "C:\\Users\\pogor\\YandexDisk\\Ustinov internship\\Measurement-automation\\lib2\\VNATimeResolvedDispersiveMeasurement1D.py:81: RuntimeWarning: invalid value encountered in sqrt\n",
      "  return result, sqrt(diag(sigma ** 2 * inv(result.jac.T.dot(result.jac))))\n"
     ]
    },
    {
     "name": "stdout",
     "output_type": "stream",
     "text": [
      "Time left: 0 h 0 m 22.23 s, [excitation_duration: 9.70e+02], average cycle time: 0.22 s       Fit failed unexpectedly: Singular matrix\n",
      "[-0.10292136 -0.10292136 -0.35111605 -0.35068272  0.38818663  0.3878914\n",
      "  0.38696925  0.39532228  1.          1.         45.40813002  1.\n",
      "  1.         44.92723444] ([-2.0196930420352066, -2.0196930420352066, -2.0196930420352066, -2.0196930420352066, -2.0196930420352066, -2.0196930420352066, -2.0196930420352066, -2.0196930420352066, 1e-07, 1e-07, 6.283185307179586e-06, 1e-07, 1e-07, 6.283185307179586e-06], [2.0196930420352066, 2.0196930420352066, 2.0196930420352066, 2.0196930420352066, 2.0196930420352066, 2.0196930420352066, 2.0196930420352066, 2.0196930420352066, 1.0, 1.0, 62.83185307179586, 1.0, 1.0, 62.83185307179586])\n",
      "Fit failed unexpectedly: Singular matrix\n",
      "Time left: 0 h 0 m 22.01 s, [excitation_duration: 9.80e+02], average cycle time: 0.22 s       Fit failed unexpectedly: Singular matrix\n",
      "[-0.11331603 -0.11331603  0.21358723  0.21359434 -0.17713868 -0.17713562\n",
      "  0.41451963  0.41449918  1.          1.         44.2795387   1.\n",
      "  1.         45.12785721] ([-2.0196930420352066, -2.0196930420352066, -2.0196930420352066, -2.0196930420352066, -2.0196930420352066, -2.0196930420352066, -2.0196930420352066, -2.0196930420352066, 1e-07, 1e-07, 6.283185307179586e-06, 1e-07, 1e-07, 6.283185307179586e-06], [2.0196930420352066, 2.0196930420352066, 2.0196930420352066, 2.0196930420352066, 2.0196930420352066, 2.0196930420352066, 2.0196930420352066, 2.0196930420352066, 1.0, 1.0, 62.83185307179586, 1.0, 1.0, 62.83185307179586])\n",
      "Fit failed unexpectedly: Singular matrix\n",
      "Time left: 0 h 0 m 21.57 s, [excitation_duration: 1.00e+03], average cycle time: 0.22 s       Fit failed unexpectedly: Singular matrix\n",
      "[-0.13232332 -0.13232332  0.09524394  0.09539408 -0.06451952 -0.06458487\n",
      "  0.45751485  0.45620594  1.          1.         55.70367231  1.\n",
      "  1.         56.93706763] ([-2.0196930420352066, -2.0196930420352066, -2.0196930420352066, -2.0196930420352066, -2.0196930420352066, -2.0196930420352066, -2.0196930420352066, -2.0196930420352066, 1e-07, 1e-07, 6.283185307179586e-06, 1e-07, 1e-07, 6.283185307179586e-06], [2.0196930420352066, 2.0196930420352066, 2.0196930420352066, 2.0196930420352066, 2.0196930420352066, 2.0196930420352066, 2.0196930420352066, 2.0196930420352066, 1.0, 1.0, 62.83185307179586, 1.0, 1.0, 62.83185307179586])\n",
      "Fit failed unexpectedly: Singular matrix\n",
      "Time left: 0 h 0 m 20.69 s, [excitation_duration: 1.04e+03], average cycle time: 0.22 s       Fit failed unexpectedly: Singular matrix\n",
      "[-2.46254331e-02 -2.46254349e-02  7.15215149e-03  7.22587150e-03\n",
      "  9.19567487e-03  7.78617539e-03  1.01320386e+00  1.03088949e+00\n",
      "  1.00000000e-07  1.00000000e-07  3.15382792e+01  1.00000000e-07\n",
      "  1.00000000e-07  4.15604399e+01] ([-2.0196930420352066, -2.0196930420352066, -2.0196930420352066, -2.0196930420352066, -2.0196930420352066, -2.0196930420352066, -2.0196930420352066, -2.0196930420352066, 1e-07, 1e-07, 6.283185307179586e-06, 1e-07, 1e-07, 6.283185307179586e-06], [2.0196930420352066, 2.0196930420352066, 2.0196930420352066, 2.0196930420352066, 2.0196930420352066, 2.0196930420352066, 2.0196930420352066, 2.0196930420352066, 1.0, 1.0, 62.83185307179586, 1.0, 1.0, 62.83185307179586])\n",
      "Fit failed unexpectedly: Singular matrix\n",
      "Time left: 0 h 0 m 18.54 s, [excitation_duration: 1.14e+03], average cycle time: 0.22 s       Fit failed unexpectedly: Singular matrix\n",
      "[-3.87896683e-02 -3.87897099e-02 -3.46439819e-02  4.15528960e-02\n",
      "  1.17037531e-02  9.06653399e-03  1.07461610e+00  9.51665056e-01\n",
      "  1.00000000e-07  1.00000000e-07  5.81047935e+01  1.00000000e-07\n",
      "  1.00000000e-07  4.81373162e+01] ([-2.0196930420352066, -2.0196930420352066, -2.0196930420352066, -2.0196930420352066, -2.0196930420352066, -2.0196930420352066, -2.0196930420352066, -2.0196930420352066, 1e-07, 1e-07, 6.283185307179586e-06, 1e-07, 1e-07, 6.283185307179586e-06], [2.0196930420352066, 2.0196930420352066, 2.0196930420352066, 2.0196930420352066, 2.0196930420352066, 2.0196930420352066, 2.0196930420352066, 2.0196930420352066, 1.0, 1.0, 62.83185307179586, 1.0, 1.0, 62.83185307179586])\n",
      "Fit failed unexpectedly: Singular matrix\n",
      "Time left: 0 h 0 m 17.88 s, [excitation_duration: 1.17e+03], average cycle time: 0.22 s       Fit failed unexpectedly: Singular matrix\n",
      "[-5.08536844e-02 -5.08536688e-02  1.70331000e-02  3.78492329e-02\n",
      " -7.16625978e-03 -8.10992225e-03  1.14792935e+00  9.70789417e-01\n",
      "  1.00000000e-07  1.00000000e-07  2.31666071e+01  1.46694052e-01\n",
      "  1.46694052e-01  3.31063636e+01] ([-2.0196930420352066, -2.0196930420352066, -2.0196930420352066, -2.0196930420352066, -2.0196930420352066, -2.0196930420352066, -2.0196930420352066, -2.0196930420352066, 1e-07, 1e-07, 6.283185307179586e-06, 1e-07, 1e-07, 6.283185307179586e-06], [2.0196930420352066, 2.0196930420352066, 2.0196930420352066, 2.0196930420352066, 2.0196930420352066, 2.0196930420352066, 2.0196930420352066, 2.0196930420352066, 1.0, 1.0, 62.83185307179586, 1.0, 1.0, 62.83185307179586])\n",
      "Fit failed unexpectedly: Singular matrix\n",
      "Time left: 0 h 0 m 17.46 s, [excitation_duration: 1.19e+03], average cycle time: 0.22 s       Fit failed unexpectedly: Singular matrix\n",
      "[-4.90397459e-08 -4.90224456e-08 -1.67638628e-04  1.67684904e-04\n",
      "  1.00000014e+00  1.00000152e+00  6.88588278e-04 -6.89759315e-04\n",
      "  9.99999968e-01  9.99999968e-01  1.69010908e+01  1.45169663e-06\n",
      "  1.45169663e-06  1.00000001e+01] ([-2.0196930420352066, -2.0196930420352066, -2.0196930420352066, -2.0196930420352066, -2.0196930420352066, -2.0196930420352066, -2.0196930420352066, -2.0196930420352066, 1e-07, 1e-07, 6.283185307179586e-06, 1e-07, 1e-07, 6.283185307179586e-06], [2.0196930420352066, 2.0196930420352066, 2.0196930420352066, 2.0196930420352066, 2.0196930420352066, 2.0196930420352066, 2.0196930420352066, 2.0196930420352066, 1.0, 1.0, 62.83185307179586, 1.0, 1.0, 62.83185307179586])\n",
      "Fit failed unexpectedly: Singular matrix\n",
      "Time left: 0 h 0 m 17.02 s, [excitation_duration: 1.21e+03], average cycle time: 0.22 s       Fit failed unexpectedly: Singular matrix\n",
      "[ 1.64960917e+00  1.64961113e+00  2.01969296e+00  2.01969296e+00\n",
      " -1.93299589e+00 -1.93299652e+00 -1.90911009e+00 -1.90912456e+00\n",
      "  1.00000000e-07  1.00000000e-07  3.28845936e+00  1.00000000e-07\n",
      "  1.00000000e-07  1.54941935e+00] ([-2.0196930420352066, -2.0196930420352066, -2.0196930420352066, -2.0196930420352066, -2.0196930420352066, -2.0196930420352066, -2.0196930420352066, -2.0196930420352066, 1e-07, 1e-07, 6.283185307179586e-06, 1e-07, 1e-07, 6.283185307179586e-06], [2.0196930420352066, 2.0196930420352066, 2.0196930420352066, 2.0196930420352066, 2.0196930420352066, 2.0196930420352066, 2.0196930420352066, 2.0196930420352066, 1.0, 1.0, 62.83185307179586, 1.0, 1.0, 62.83185307179586])\n",
      "Fit failed unexpectedly: Singular matrix\n",
      "Time left: 0 h 0 m 16.14 s, [excitation_duration: 1.25e+03], average cycle time: 0.22 s       Fit failed unexpectedly: Singular matrix\n",
      "[-1.93889707e-02 -1.93889704e-02 -7.27468476e-03 -1.35236368e-02\n",
      " -1.76256156e-02  1.21925838e-02  1.80773137e+00  2.50276923e-01\n",
      "  1.00000000e-07  1.00000000e-07  4.95644527e+01  6.81260862e-02\n",
      "  6.81260862e-02  5.96110643e+01] ([-2.0196930420352066, -2.0196930420352066, -2.0196930420352066, -2.0196930420352066, -2.0196930420352066, -2.0196930420352066, -2.0196930420352066, -2.0196930420352066, 1e-07, 1e-07, 6.283185307179586e-06, 1e-07, 1e-07, 6.283185307179586e-06], [2.0196930420352066, 2.0196930420352066, 2.0196930420352066, 2.0196930420352066, 2.0196930420352066, 2.0196930420352066, 2.0196930420352066, 2.0196930420352066, 1.0, 1.0, 62.83185307179586, 1.0, 1.0, 62.83185307179586])\n",
      "Fit failed unexpectedly: Singular matrix\n",
      "Time left: 0 h 0 m 0.0 s, [excitation_duration: 2.00e+03], average cycle time: 0.21 s       \n",
      "Elapsed time: 0 h 0 m 42.98 s\n"
     ]
    }
   ],
   "source": [
    "droj_result = DROJ.launch()"
   ]
  },
  {
   "cell_type": "code",
   "execution_count": 17,
   "metadata": {},
   "outputs": [
    {
     "name": "stdout",
     "output_type": "stream",
     "text": [
      "Measurement was interrupted! \n",
      "\n",
      "Time left: 0 h 5 m 40.08 s, [excitation_duration: 3.20e+02], average cycle time: 2.02 s       "
     ]
    }
   ],
   "source": []
  }
 ],
 "metadata": {
  "kernelspec": {
   "display_name": "Python 3",
   "language": "python",
   "name": "python3"
  },
  "language_info": {
   "codemirror_mode": {
    "name": "ipython",
    "version": 3
   },
   "file_extension": ".py",
   "mimetype": "text/x-python",
   "name": "python",
   "nbconvert_exporter": "python",
   "pygments_lexer": "ipython3",
   "version": "3.7.0"
  },
  "toc-showtags": false
 },
 "nbformat": 4,
 "nbformat_minor": 2
}
